{
 "cells": [
  {
   "cell_type": "code",
   "execution_count": 1,
   "id": "5c24ba98",
   "metadata": {},
   "outputs": [],
   "source": [
    "import pandas as pd\n",
    "import numpy as np\n",
    "import json\n",
    "import re\n",
    "\n",
    "import matplotlib.pyplot as plt\n",
    "%matplotlib inline"
   ]
  },
  {
   "cell_type": "markdown",
   "id": "66f03230",
   "metadata": {},
   "source": [
    "### Reading companies data"
   ]
  },
  {
   "cell_type": "code",
   "execution_count": 2,
   "id": "604cebac",
   "metadata": {},
   "outputs": [],
   "source": [
    "with open('company_scraping_raw.json') as f:\n",
    "    data = f.read()"
   ]
  },
  {
   "cell_type": "markdown",
   "id": "eaf2bb93",
   "metadata": {},
   "source": [
    "#### Cleaned Data using regex\n",
    "\n",
    "* `\\[\\d+\\]`\n",
    "* `\"(\"` to `\"\"`\n",
    "* `\")\"` to `\"\"`\n",
    "* `\"CEO\"` to `\"\"`\n",
    "* `\"(CEO)\"` to `\"\"`\n",
    "* `\"President\"` to `\"\"`\n",
    "* `Interim` to ` `\n",
    "* `\"&\"` to `\"\"`\n",
    "* `\",\"` to `\"\"`\n",
    "* `\"Independent\"` to `\"\"`\n",
    "* `[,` to `[`\n",
    "* `, ]` to `]`\n",
    "* `\\\\u00a0` to ` `\n",
    "* `\\(\\d.*\\)` to ` `\n",
    "* `Full List` to ` `\n",
    "* `, \"\" ,` to `,`\n",
    "* `,\"` to `\"`\n",
    "* `,\",` to `\",`\n",
    "* `(\",` to `\",`\n",
    "* `\\d+ years ago` to ` `\n",
    "* `\"; \"` to `\"\"`\n",
    "* `\"See Below\"` to `\"\"`\n",
    "* `\"&` to `\"`\n",
    "* `\"and ` to `\"`\n",
    "* `\"and\"` to `\"\"`\n",
    "* `\\(\"` to `\"`\n",
    "* `\\(?CFO\\)?` to `\"\"`\n",
    "* `\\b\\(?CMO\\)?\\b|\\b\\(?CPO\\)?\\b|\\b\\(?COO\\)?\\b|\\b\\(?CPO\\)?\\b|\\b\\(?CRO\\)?\\b|\\b\\(?CTO\\)?|\\b\\(?CEO\\)?` to `\"\"`\n",
    "* `\" \"` to `\"\"`\n",
    "* `\"\\(\\d+\"` to `\"\"`\n",
    "* ` \\( \"` to `\"`\n",
    "* ` \\( ,` to `,`\n",
    "* `\\bChairman\\b|\\bVice\\b|\\bPresident\\b|\\bExecutive\\b` to ` `\n",
    "* `\\(Founder\\)` to ` `\n",
    "* `\"\\.\"` to `\"\"`\n",
    "* `\"\\( \\)\"` to `\"\"`\n",
    "* `\\bEmeritus\\b|\\bSVP\\b|\\bVP\\b|\\bEVP\\b` to ` `\n",
    "* `\\bS&P 500\\b|\\bS&P 100\\b|\\bNYSE\\b|\\bcomponent\\b|\\bNasdaq-100\\b|\\bS&P 600\\b|\\bRussell 2000\\b|\\bDAX\\b|\\bS&P 400\\b|\\bS&P\\b|\\bNSE\\b|\\bBSE\\b`\n",
    "* `\\bNasdaq\\b|\\bOTCQX\\b|\\bOTC\\b|`\n"
   ]
  },
  {
   "cell_type": "code",
   "execution_count": 3,
   "id": "cb535a85",
   "metadata": {},
   "outputs": [
    {
     "name": "stdout",
     "output_type": "stream",
     "text": [
      "5316124\n",
      "\\[\\d+\\]         5294774\n",
      "\"\\(\"            5289787\n",
      "\"\\)\"            5283064\n",
      "\"CEO\"           5279788\n",
      "\"President\"     5275810\n",
      "\"\\(CEO\\)\"       5274975\n",
      "Interim         5274856\n",
      "\"&\"             5274548\n",
      "\",\"             5266862\n",
      "\"Independent\"   5266411\n",
      "\\(\\d.*\\)        5184220\n",
      "Full List       5184175\n",
      "\\,\\\"            5182937\n",
      "\\(\\\",           5181785\n",
      "\\d+ years ago   5172095\n",
      "\\\"; \\\"          5170503\n",
      "\"See Below\"     5170494\n",
      "\\\"&             5170463\n",
      "\\\"and           5169847\n",
      "\\(\\\"            5169744\n",
      "\\\"and\\\"         5168199\n",
      "\"\\(\\d+\"         5167854\n",
      "\\b\\(?CFO\\)?\\b|\\b\\(?CMO\\)?\\b|\\b\\(?CPO\\)?\\b|\\b\\(?COO\\)?\\b|\\b\\(?CPO\\)?\\b|\\b\\(?CRO\\)?\\b|\\b\\(?CTO\\)?|\\b\\(?CEO\\)? 5160872\n",
      "\\bChairman\\b|\\bVice\\b|\\bPresident\\b|\\bExecutive\\b 5140709\n",
      "\\(Founder\\)     5140589\n",
      "\"\\.\"            5140560\n",
      "\"\\( \\)\"         5140170\n",
      "\\bEmeritus\\b|\\bSVP\\b|\\bVP\\b|\\bEVP\\b 5139679\n",
      "\\bS&P 500\\b|\\bS&P 100\\b|\\bNYSE\\b|\\bcomponent\\b|\\bNasdaq-100\\b|\\bS&P 600\\b|\\bRussell 2000\\b|\\bDAX\\b|\\bS&P 400\\b|\\bS&P\\b|\\bNSE\\b|\\bBSE\\b 5119408\n",
      "\\bNasdaq\\b|\\bNASDAQ\\b|\\bOTCQX\\b|\\bOTC\\b| 5116271\n",
      "\" \"             5115843\n",
      ",\\\",            5115842\n",
      " \\( \"           5115833\n",
      " \\( ,\"          5115833\n",
      "\\[,             5115833\n",
      "\\, \\],          5115833\n",
      "\\\\u00a0,        5115833\n",
      ", \"\" ,          5115833\n"
     ]
    }
   ],
   "source": [
    "patterns = {\n",
    "    r'\\[\\d+\\]':'',\n",
    "    r'\"\\(\"':'\"\"',\n",
    "    r'\"\\)\"':'\"\"',\n",
    "    r'\"CEO\"':'\"\"',\n",
    "    r'\"President\"':'\"\"',\n",
    "    r'\"\\(CEO\\)\"':'\"\"',\n",
    "    r'Interim':'',\n",
    "    r'\"&\"':'\"\"',\n",
    "    r'\",\"':'\"\"',\n",
    "    r'\"Independent\"':'\"\"',\n",
    "    r'\\(\\d.*\\)': '',\n",
    "    r'Full List': '',\n",
    "    r'\\,\\\"': '\"',\n",
    "    r'\\(\\\",': '\",',\n",
    "    r'\\d+ years ago': '',\n",
    "    r'\\\"; \\\"': '\"\"',\n",
    "    r'\"See Below\"': '\"\"',\n",
    "    r'\\\"&': '\"',\n",
    "    r'\\\"and ': '\"',\n",
    "    r'\\(\\\"': '\"',\n",
    "    r'\\\"and\\\"': '\"\"',\n",
    "    r'\"\\(\\d+\"': '\"\"',\n",
    "    r'\\b\\(?CFO\\)?\\b|\\b\\(?CMO\\)?\\b|\\b\\(?CPO\\)?\\b|\\b\\(?COO\\)?\\b|\\b\\(?CPO\\)?\\b|\\b\\(?CRO\\)?\\b|\\b\\(?CTO\\)?|\\b\\(?CEO\\)?': '',\n",
    "    r'\\bChairman\\b|\\bVice\\b|\\bPresident\\b|\\bExecutive\\b': ' ',\n",
    "    r'\\(Founder\\)': ' ',\n",
    "    r'\"\\.\"': '\"\"',\n",
    "    r'\"\\( \\)\"': '\"\"',\n",
    "    r'\\bEmeritus\\b|\\bSVP\\b|\\bVP\\b|\\bEVP\\b': ' ',\n",
    "    r'\\bS&P 500\\b|\\bS&P 100\\b|\\bNYSE\\b|\\bcomponent\\b|\\bNasdaq-100\\b|\\bS&P 600\\b|\\bRussell 2000\\b|\\bDAX\\b|\\bS&P 400\\b|\\bS&P\\b|\\bNSE\\b|\\bBSE\\b': '',\n",
    "    r'\\bNasdaq\\b|\\bNASDAQ\\b|\\bOTCQX\\b|\\bOTC\\b|': '',\n",
    "    r'\" \"':'\"\"',\n",
    "    r',\\\",': '\",',\n",
    "    r' \\( \"': '\"',\n",
    "    r' \\( ,\"': ',',\n",
    "    r'\\[,':'[',\n",
    "    r'\\, \\],': ']',\n",
    "    r'\\\\u00a0,': '',\n",
    "    r', \"\" ,': ',',\n",
    "}\n",
    "\n",
    "print(len(data))\n",
    "\n",
    "for pattern, replace_with in patterns.items():\n",
    "    data = re.sub(pattern, replace_with, data)\n",
    "    print(pattern.ljust(15), len(data))\n"
   ]
  },
  {
   "cell_type": "markdown",
   "id": "63e2f4c6",
   "metadata": {},
   "source": [
    "doubtful for below, do this with caution!!\n",
    "* `\\(.*\\)` \n",
    "*  `\"\"`\n",
    "* `, ,` to `,`"
   ]
  },
  {
   "cell_type": "code",
   "execution_count": 4,
   "id": "43e48a07",
   "metadata": {},
   "outputs": [
    {
     "data": {
      "text/plain": [
       "5577"
      ]
     },
     "execution_count": 4,
     "metadata": {},
     "output_type": "execute_result"
    }
   ],
   "source": [
    "companies = json.loads(data)\n",
    "companies = companies.get('data', '')\n",
    "len(companies)"
   ]
  },
  {
   "cell_type": "code",
   "execution_count": 5,
   "id": "25431333",
   "metadata": {},
   "outputs": [],
   "source": [
    "skip_html_content = lambda x: x.find(\".mw-parser\") >= 0 or x.find(\".plainlist\") >= 0"
   ]
  },
  {
   "cell_type": "code",
   "execution_count": 6,
   "id": "9c878d3b",
   "metadata": {},
   "outputs": [
    {
     "data": {
      "text/plain": [
       "5577"
      ]
     },
     "execution_count": 6,
     "metadata": {},
     "output_type": "execute_result"
    }
   ],
   "source": [
    "clean_companies = {}\n",
    "for company_name in companies.keys():\n",
    "    company = companies[company_name]\n",
    "    temp = {}\n",
    "    for key in company.keys():\n",
    "        if skip_html_content(key):\n",
    "            continue\n",
    "        items = []\n",
    "        for item in company[key]:\n",
    "            if skip_html_content(item):\n",
    "                continue\n",
    "            items.append(item)\n",
    "        temp[key]=items\n",
    "    clean_companies[company_name] = temp\n",
    "    \n",
    "len(clean_companies)"
   ]
  },
  {
   "cell_type": "markdown",
   "id": "4dd7dc85",
   "metadata": {},
   "source": [
    "### Features Selection"
   ]
  },
  {
   "cell_type": "code",
   "execution_count": 7,
   "id": "7b6e41c7",
   "metadata": {},
   "outputs": [
    {
     "data": {
      "text/plain": [
       "1318"
      ]
     },
     "execution_count": 7,
     "metadata": {},
     "output_type": "execute_result"
    }
   ],
   "source": [
    "all_features = {}\n",
    "for company_name in clean_companies.keys():\n",
    "    company = companies[company_name]\n",
    "    for key in company.keys():\n",
    "        all_features[key] = all_features.get(key, 0) + 1\n",
    "        \n",
    "# Total unique features {feature: occurences}\n",
    "len(all_features)"
   ]
  },
  {
   "cell_type": "code",
   "execution_count": 8,
   "id": "df3f03b9",
   "metadata": {},
   "outputs": [],
   "source": [
    "# all_features"
   ]
  },
  {
   "cell_type": "code",
   "execution_count": 9,
   "id": "1593e2ae",
   "metadata": {},
   "outputs": [
    {
     "data": {
      "image/png": "[encoded data removed]",
      "text/plain": [
       "<Figure size 432x288 with 2 Axes>"
      ]
     },
     "metadata": {
      "needs_background": "light"
     },
     "output_type": "display_data"
    }
   ],
   "source": [
    "from mpl_toolkits.axes_grid1.inset_locator import inset_axes, InsetPosition\n",
    "\n",
    "# Plot histogram\n",
    "plt.hist(all_features.values(), bins=100, edgecolor='black')\n",
    "plt.xlabel('Feature Occurrences')\n",
    "plt.ylabel('Total Features')\n",
    "plt.title(f'{len(all_features)} Features and their occurrences')\n",
    "\n",
    "# Define the region of interest (bounding box)\n",
    "x1, x2 = 0, 400  # Define the range of x-axis values for the zoomed-in plot\n",
    "y1, y2 = 0, 100  # Define the range of y-axis values for the zoomed-in plot\n",
    "\n",
    "# Get the current axes\n",
    "ax = plt.gca()\n",
    "\n",
    "# Create a new inset axes within the original plot\n",
    "ax_zoom = inset_axes(ax, width=\"55%\", height=\"35%\", loc='upper right')\n",
    "\n",
    "# Plot the zoomed-in histogram within the inset axes\n",
    "ax_zoom.hist(all_features.values(), bins=100, edgecolor='black')\n",
    "ax_zoom.set_xlim(x1, x2)\n",
    "ax_zoom.set_ylim(y1, y2)\n",
    "ax_zoom.set_xlabel('Feature Occurrences')\n",
    "ax_zoom.set_ylabel('Total Features')\n",
    "\n",
    "plt.show()"
   ]
  },
  {
   "cell_type": "markdown",
   "id": "a30e26a5",
   "metadata": {},
   "source": [
    "#### Highly skewed towards left\n",
    "To qualify for company's main features, the expectation is that it should atleast occur in 1% of total companies "
   ]
  },
  {
   "cell_type": "code",
   "execution_count": 10,
   "id": "b57bf7fb",
   "metadata": {},
   "outputs": [
    {
     "data": {
      "text/plain": [
       "56"
      ]
     },
     "execution_count": 10,
     "metadata": {},
     "output_type": "execute_result"
    }
   ],
   "source": [
    "# Selecting threshold for filtering features: 1% of total companies\n",
    "threshold = round(0.01 * len(companies))\n",
    "threshold"
   ]
  },
  {
   "cell_type": "code",
   "execution_count": 11,
   "id": "9379c6d9",
   "metadata": {},
   "outputs": [
    {
     "data": {
      "text/plain": [
       "66"
      ]
     },
     "execution_count": 11,
     "metadata": {},
     "output_type": "execute_result"
    }
   ],
   "source": [
    "potential_features = dict(filter(lambda x:x[1]>threshold, list(all_features.items())))\n",
    "len(potential_features)"
   ]
  },
  {
   "cell_type": "code",
   "execution_count": 12,
   "id": "cea1d0fa",
   "metadata": {},
   "outputs": [
    {
     "data": {
      "text/plain": [
       "1252"
      ]
     },
     "execution_count": 12,
     "metadata": {},
     "output_type": "execute_result"
    }
   ],
   "source": [
    "irrelevant_features = dict(filter(lambda x:x[1]<=threshold, list(all_features.items())))\n",
    "len(irrelevant_features)"
   ]
  },
  {
   "cell_type": "markdown",
   "id": "04eaf6b8",
   "metadata": {},
   "source": [
    "#### We will manually verify later if any important features went in the irrelevant_features category"
   ]
  },
  {
   "cell_type": "code",
   "execution_count": 13,
   "id": "5a955278",
   "metadata": {},
   "outputs": [],
   "source": [
    "# sorted(irrelevant_features, key=lambda x:irrelevant_features.get(x), reverse=True)"
   ]
  },
  {
   "cell_type": "code",
   "execution_count": 14,
   "id": "b72da2b0",
   "metadata": {},
   "outputs": [
    {
     "data": {
      "image/png": "[encoded data removed]",
      "text/plain": [
       "<Figure size 432x288 with 2 Axes>"
      ]
     },
     "metadata": {
      "needs_background": "light"
     },
     "output_type": "display_data"
    }
   ],
   "source": [
    "# Plot histogram\n",
    "plt.hist(potential_features.values(), bins=100, edgecolor='black')\n",
    "plt.xlabel('Feature Occurrences')\n",
    "plt.ylabel('Total Features')\n",
    "plt.title(f'{len(potential_features)} Features and their occurrences')\n",
    "\n",
    "# Define the region of interest (bounding box)\n",
    "x1, x2 = 0, 500  # Define the range of x-axis values for the zoomed-in plot\n",
    "y1, y2 = 0, 15  # Define the range of y-axis values for the zoomed-in plot\n",
    "\n",
    "# Get the current axes\n",
    "ax = plt.gca()\n",
    "\n",
    "# Create a new inset axes within the original plot\n",
    "ax_zoom = inset_axes(ax, width=\"55%\", height=\"35%\", loc='upper right')\n",
    "\n",
    "# Plot the zoomed-in histogram within the inset axes\n",
    "ax_zoom.hist(potential_features.values(), bins=100, edgecolor='black')\n",
    "ax_zoom.set_xlim(x1, x2)\n",
    "ax_zoom.set_ylim(y1, y2)\n",
    "ax_zoom.set_xlabel('Feature Occurrences')\n",
    "ax_zoom.set_ylabel('Total Features')\n",
    "\n",
    "plt.show()"
   ]
  },
  {
   "cell_type": "markdown",
   "id": "a89fc4eb",
   "metadata": {},
   "source": [
    "#### Dividing 66 potential_features into two bucket, extra_features (less important) and selected_features (more relevant)"
   ]
  },
  {
   "cell_type": "code",
   "execution_count": 15,
   "id": "d4e7283f",
   "metadata": {},
   "outputs": [
    {
     "name": "stdout",
     "output_type": "stream",
     "text": [
      "Median: 169.5\n"
     ]
    }
   ],
   "source": [
    "# Find the median, will use this to filter more features (which can be stored in `extra_features`)\n",
    "median_value = np.median(list(potential_features.values()))\n",
    "print(\"Median:\", median_value)"
   ]
  },
  {
   "cell_type": "code",
   "execution_count": 16,
   "id": "82619c57",
   "metadata": {},
   "outputs": [
    {
     "data": {
      "text/plain": [
       "33"
      ]
     },
     "execution_count": 16,
     "metadata": {},
     "output_type": "execute_result"
    }
   ],
   "source": [
    "selected_features = dict(filter(lambda x:x[1]>median_value, list(potential_features.items())))\n",
    "len(selected_features)"
   ]
  },
  {
   "cell_type": "code",
   "execution_count": 17,
   "id": "63b57689",
   "metadata": {},
   "outputs": [
    {
     "data": {
      "text/plain": [
       "33"
      ]
     },
     "execution_count": 17,
     "metadata": {},
     "output_type": "execute_result"
    }
   ],
   "source": [
    "extra_features = dict(filter(lambda x:x[1]<=median_value, list(potential_features.items())))\n",
    "len(extra_features)"
   ]
  },
  {
   "cell_type": "markdown",
   "id": "534941a0",
   "metadata": {},
   "source": [
    "### Cleaning & Extracting selected_features"
   ]
  },
  {
   "cell_type": "code",
   "execution_count": 18,
   "id": "45af8ae2",
   "metadata": {},
   "outputs": [
    {
     "data": {
      "text/plain": [
       "{'Type': 3842,\n",
       " 'Traded as': 1279,\n",
       " 'Industry': 3818,\n",
       " 'Founded': 4359,\n",
       " 'Founders': 618,\n",
       " 'Headquarters': 4366,\n",
       " 'Area served': 1468,\n",
       " 'Key people': 3196,\n",
       " 'Products': 2627,\n",
       " 'Revenue': 1966,\n",
       " 'Parent': 1127,\n",
       " 'Website': 4289,\n",
       " 'Predecessor': 274,\n",
       " 'Founder': 1678,\n",
       " 'Fate': 408,\n",
       " 'Location': 199,\n",
       " 'Operating income': 946,\n",
       " 'Net income': 1194,\n",
       " 'Total assets': 1105,\n",
       " 'Total equity': 944,\n",
       " 'Number of employees': 2498,\n",
       " 'Trade name': 271,\n",
       " 'Formerly': 507,\n",
       " 'Defunct': 419,\n",
       " 'Successor': 185,\n",
       " 'Owner': 674,\n",
       " 'Services': 514,\n",
       " 'Brands': 172,\n",
       " 'Genre': 195,\n",
       " 'Number of locations': 884,\n",
       " 'Subsidiaries': 653,\n",
       " 'Divisions': 287,\n",
       " 'ISIN': 174}"
      ]
     },
     "execution_count": 18,
     "metadata": {},
     "output_type": "execute_result"
    }
   ],
   "source": [
    "selected_features"
   ]
  },
  {
   "cell_type": "code",
   "execution_count": 19,
   "id": "4816295e",
   "metadata": {},
   "outputs": [
    {
     "data": {
      "text/plain": [
       "dict_keys(['Type', 'Traded as', 'Industry', 'Founded', 'Founders', 'Headquarters', 'Area served', 'Key people', 'Products', 'Revenue', 'Parent', 'Website', 'Predecessor', 'Founder', 'Fate', 'Location', 'Operating income', 'Net income', 'Total assets', 'Total equity', 'Number of employees', 'Trade name', 'Formerly', 'Defunct', 'Successor', 'Owner', 'Services', 'Brands', 'Genre', 'Number of locations', 'Subsidiaries', 'Divisions', 'ISIN'])"
      ]
     },
     "execution_count": 19,
     "metadata": {},
     "output_type": "execute_result"
    }
   ],
   "source": [
    "selected_features.keys()"
   ]
  },
  {
   "cell_type": "code",
   "execution_count": 20,
   "id": "37ad8a20",
   "metadata": {},
   "outputs": [],
   "source": [
    "clean_companies_df = pd.DataFrame(clean_companies).T"
   ]
  },
  {
   "cell_type": "code",
   "execution_count": 21,
   "id": "2b5f1344",
   "metadata": {},
   "outputs": [],
   "source": [
    "selected_features_df = clean_companies_df[selected_features.keys()].dropna(how='all').dropna(how='all', axis=1)"
   ]
  },
  {
   "cell_type": "code",
   "execution_count": 22,
   "id": "96eaa16d",
   "metadata": {},
   "outputs": [],
   "source": [
    "def compare_columns(s1, s2):\n",
    "    temp_df = pd.DataFrame([s1.dropna(),s2.dropna()]).T\n",
    "    temp_df.columns = [\"old\", \"new\"]\n",
    "    return temp_df.dropna(how='all').sample(10)"
   ]
  },
  {
   "cell_type": "code",
   "execution_count": 23,
   "id": "af6e160e",
   "metadata": {},
   "outputs": [],
   "source": [
    "output_df = pd.DataFrame(index=selected_features_df.index)"
   ]
  },
  {
   "cell_type": "markdown",
   "id": "b600eab4",
   "metadata": {},
   "source": [
    "### Cleaning Website and extracting domains"
   ]
  },
  {
   "cell_type": "code",
   "execution_count": 24,
   "id": "66ca6228",
   "metadata": {},
   "outputs": [],
   "source": [
    "registrantNameDomainPattern = re.compile(r\"((?:[a-z0-9](?:[a-z0-9-]{0,61}[a-z0-9])?\\.)+[a-z0-9][a-z0-9-]{0,61}[a-z])\")\n",
    "\n",
    "def clean_domain(url):\n",
    "    # Clean URL\n",
    "    url = url.lower().strip('\"').strip(\"'\").strip()\n",
    "    if ' ' in url: \n",
    "        url = ''.join(url.split(' '))\n",
    "        \n",
    "    # Remove leading \"http://\" or \"https://\"\n",
    "    url = re.sub(r'.*http?s?://', '', url)\n",
    "    \n",
    "    # Remove leading \"www.\" or anything before \"www.\"\n",
    "    url = re.sub(r'.*www\\.', '', url)\n",
    "    \n",
    "    # Remove any additional paths or parameters after the main domain\n",
    "    url = re.sub(r'/.*$', '', url)\n",
    "    \n",
    "    # Remove any `.` in the end or beginning of URL\n",
    "    url = url.strip('.')\n",
    "    \n",
    "    # Remove any additional text after the top level domain\n",
    "    # More items can be added using Public Suffix List\n",
    "    url = re.sub(r'\\.com.*$', '.com', url)\n",
    "    url = re.sub(r'\\.net.*$', '.net', url)\n",
    "    url = re.sub(r'\\.gov.*$', '.gov', url)\n",
    "    url = re.sub(r'\\.org.*$', '.org', url)\n",
    "    url = re.sub(r'\\.edu.*$', '.edu', url)\n",
    "    url = re.sub(r'\\.mil.*$', '.mil', url)\n",
    "\n",
    "    # Remove any url that doesn't contain `.`\n",
    "    url = '' if '.' not in url else url\n",
    "    \n",
    "    # Match the regex pattern\n",
    "    match = registrantNameDomainPattern.search(url)\n",
    "    url = match.group(1) if match else url\n",
    "    \n",
    "    return url\n",
    "\n",
    "output_df[\"Website\"] = selected_features_df[\"Website\"].dropna().apply(lambda x:clean_domain(''.join(x)))"
   ]
  },
  {
   "cell_type": "code",
   "execution_count": 25,
   "id": "86f6fc16",
   "metadata": {},
   "outputs": [
    {
     "data": {
      "text/html": [
       "<div>\n",
       "<style scoped>\n",
       "    .dataframe tbody tr th:only-of-type {\n",
       "        vertical-align: middle;\n",
       "    }\n",
       "\n",
       "    .dataframe tbody tr th {\n",
       "        vertical-align: top;\n",
       "    }\n",
       "\n",
       "    .dataframe thead th {\n",
       "        text-align: right;\n",
       "    }\n",
       "</style>\n",
       "<table border=\"1\" class=\"dataframe\">\n",
       "  <thead>\n",
       "    <tr style=\"text-align: right;\">\n",
       "      <th></th>\n",
       "      <th>old</th>\n",
       "      <th>new</th>\n",
       "    </tr>\n",
       "  </thead>\n",
       "  <tbody>\n",
       "    <tr>\n",
       "      <th>Robesonia,_Pennsylvania</th>\n",
       "      <td>[www, .robesoniaboro, .org]</td>\n",
       "      <td>robesoniaboro.org</td>\n",
       "    </tr>\n",
       "    <tr>\n",
       "      <th>Biomet</th>\n",
       "      <td>[www.biomet.com]</td>\n",
       "      <td>biomet.com</td>\n",
       "    </tr>\n",
       "    <tr>\n",
       "      <th>Bovis_Lend_Lease</th>\n",
       "      <td>[www, .lendlease, .com]</td>\n",
       "      <td>lendlease.com</td>\n",
       "    </tr>\n",
       "    <tr>\n",
       "      <th>Sharonville,_Ohio</th>\n",
       "      <td>[www, .sharonville, .org]</td>\n",
       "      <td>sharonville.org</td>\n",
       "    </tr>\n",
       "    <tr>\n",
       "      <th>BAE_Systems_Customer_Solutions</th>\n",
       "      <td>[www.baesystems.com]</td>\n",
       "      <td>baesystems.com</td>\n",
       "    </tr>\n",
       "    <tr>\n",
       "      <th>Campbell_Ewald</th>\n",
       "      <td>[www, .c-e, .com]</td>\n",
       "      <td>c-e.com</td>\n",
       "    </tr>\n",
       "    <tr>\n",
       "      <th>Columbia_Sportswear</th>\n",
       "      <td>[www.columbia.com]</td>\n",
       "      <td>columbia.com</td>\n",
       "    </tr>\n",
       "    <tr>\n",
       "      <th>APS_Payroll</th>\n",
       "      <td>[www, .apspayroll, .com]</td>\n",
       "      <td>apspayroll.com</td>\n",
       "    </tr>\n",
       "    <tr>\n",
       "      <th>WORX</th>\n",
       "      <td>[www, .worx, .com]</td>\n",
       "      <td>worx.com</td>\n",
       "    </tr>\n",
       "    <tr>\n",
       "      <th>Terrible_Herbst</th>\n",
       "      <td>[www, .terribleherbst, .com]</td>\n",
       "      <td>terribleherbst.com</td>\n",
       "    </tr>\n",
       "  </tbody>\n",
       "</table>\n",
       "</div>"
      ],
      "text/plain": [
       "                                                         old  \\\n",
       "Robesonia,_Pennsylvania          [www, .robesoniaboro, .org]   \n",
       "Biomet                                      [www.biomet.com]   \n",
       "Bovis_Lend_Lease                     [www, .lendlease, .com]   \n",
       "Sharonville,_Ohio                  [www, .sharonville, .org]   \n",
       "BAE_Systems_Customer_Solutions          [www.baesystems.com]   \n",
       "Campbell_Ewald                             [www, .c-e, .com]   \n",
       "Columbia_Sportswear                       [www.columbia.com]   \n",
       "APS_Payroll                         [www, .apspayroll, .com]   \n",
       "WORX                                      [www, .worx, .com]   \n",
       "Terrible_Herbst                 [www, .terribleherbst, .com]   \n",
       "\n",
       "                                               new  \n",
       "Robesonia,_Pennsylvania          robesoniaboro.org  \n",
       "Biomet                                  biomet.com  \n",
       "Bovis_Lend_Lease                     lendlease.com  \n",
       "Sharonville,_Ohio                  sharonville.org  \n",
       "BAE_Systems_Customer_Solutions      baesystems.com  \n",
       "Campbell_Ewald                             c-e.com  \n",
       "Columbia_Sportswear                   columbia.com  \n",
       "APS_Payroll                         apspayroll.com  \n",
       "WORX                                      worx.com  \n",
       "Terrible_Herbst                 terribleherbst.com  "
      ]
     },
     "execution_count": 25,
     "metadata": {},
     "output_type": "execute_result"
    }
   ],
   "source": [
    "compare_columns(selected_features_df[\"Website\"], output_df[\"Website\"])"
   ]
  },
  {
   "cell_type": "markdown",
   "id": "1c0f2cb1",
   "metadata": {},
   "source": [
    "### Cleaning columns\n",
    "* Type\n",
    "* Parent\n",
    "* Founded\n",
    "* Traded As\n",
    "* Defunct\n",
    "* Fate"
   ]
  },
  {
   "cell_type": "code",
   "execution_count": 26,
   "id": "2a1be01a",
   "metadata": {},
   "outputs": [],
   "source": [
    "clean_boxes = lambda s: re.sub(r'\\[\\d\\]', '', s)"
   ]
  },
  {
   "cell_type": "code",
   "execution_count": 27,
   "id": "dcca5c63",
   "metadata": {},
   "outputs": [],
   "source": [
    "clean_type = lambda x: [word.strip() for word in x.split(',') if re.findall(r'\\b\\w+ ?\\b',re.sub(r'\\(.*\\)','',word))]\n",
    "output_df[\"Type\"] = selected_features_df[\"Type\"].dropna().apply(lambda x:' '.join(clean_type(','.join(x))).strip()).apply(lambda x:clean_boxes(x))"
   ]
  },
  {
   "cell_type": "code",
   "execution_count": 28,
   "id": "906371df",
   "metadata": {},
   "outputs": [
    {
     "data": {
      "text/html": [
       "<div>\n",
       "<style scoped>\n",
       "    .dataframe tbody tr th:only-of-type {\n",
       "        vertical-align: middle;\n",
       "    }\n",
       "\n",
       "    .dataframe tbody tr th {\n",
       "        vertical-align: top;\n",
       "    }\n",
       "\n",
       "    .dataframe thead th {\n",
       "        text-align: right;\n",
       "    }\n",
       "</style>\n",
       "<table border=\"1\" class=\"dataframe\">\n",
       "  <thead>\n",
       "    <tr style=\"text-align: right;\">\n",
       "      <th></th>\n",
       "      <th>old</th>\n",
       "      <th>new</th>\n",
       "    </tr>\n",
       "  </thead>\n",
       "  <tbody>\n",
       "    <tr>\n",
       "      <th>Reser%27s_Fine_Foods</th>\n",
       "      <td>[Private]</td>\n",
       "      <td>Private</td>\n",
       "    </tr>\n",
       "    <tr>\n",
       "      <th>SAS_Institute</th>\n",
       "      <td>[Private]</td>\n",
       "      <td>Private</td>\n",
       "    </tr>\n",
       "    <tr>\n",
       "      <th>Hennepin_County_Medical_Center</th>\n",
       "      <td>[Teaching]</td>\n",
       "      <td>Teaching</td>\n",
       "    </tr>\n",
       "    <tr>\n",
       "      <th>Ralph_Lauren_Corporation</th>\n",
       "      <td>[Public]</td>\n",
       "      <td>Public</td>\n",
       "    </tr>\n",
       "    <tr>\n",
       "      <th>Central_Market_(Texas)</th>\n",
       "      <td>[Division]</td>\n",
       "      <td>Division</td>\n",
       "    </tr>\n",
       "    <tr>\n",
       "      <th>USANA_Health_Sciences</th>\n",
       "      <td>[Public]</td>\n",
       "      <td>Public</td>\n",
       "    </tr>\n",
       "    <tr>\n",
       "      <th>Deluxe_Corporation</th>\n",
       "      <td>[Public]</td>\n",
       "      <td>Public</td>\n",
       "    </tr>\n",
       "    <tr>\n",
       "      <th>Hawaii_National_Bank</th>\n",
       "      <td>[Private]</td>\n",
       "      <td>Private</td>\n",
       "    </tr>\n",
       "    <tr>\n",
       "      <th>Moderna</th>\n",
       "      <td>[Public]</td>\n",
       "      <td>Public</td>\n",
       "    </tr>\n",
       "    <tr>\n",
       "      <th>APriori_Capital_Partners</th>\n",
       "      <td>[Private]</td>\n",
       "      <td>Private</td>\n",
       "    </tr>\n",
       "  </tbody>\n",
       "</table>\n",
       "</div>"
      ],
      "text/plain": [
       "                                       old       new\n",
       "Reser%27s_Fine_Foods             [Private]   Private\n",
       "SAS_Institute                    [Private]   Private\n",
       "Hennepin_County_Medical_Center  [Teaching]  Teaching\n",
       "Ralph_Lauren_Corporation          [Public]    Public\n",
       "Central_Market_(Texas)          [Division]  Division\n",
       "USANA_Health_Sciences             [Public]    Public\n",
       "Deluxe_Corporation                [Public]    Public\n",
       "Hawaii_National_Bank             [Private]   Private\n",
       "Moderna                           [Public]    Public\n",
       "APriori_Capital_Partners         [Private]   Private"
      ]
     },
     "execution_count": 28,
     "metadata": {},
     "output_type": "execute_result"
    }
   ],
   "source": [
    "compare_columns(selected_features_df[\"Type\"], output_df[\"Type\"])"
   ]
  },
  {
   "cell_type": "code",
   "execution_count": 29,
   "id": "7bc34be4",
   "metadata": {},
   "outputs": [],
   "source": [
    "clean_parent = lambda x: [clean_boxes(word.strip()) for word in x.split(',') if re.findall(r'\\b\\w+ ?\\b',re.sub(r'\\(.*\\)|\\bLLC\\b|\\bInc.?\\b|\\bLtd.?\\b|\\band\\b|\\bIndependent\\b','',word))]\n",
    "output_df[\"Parent\"] = selected_features_df[\"Parent\"].dropna().apply(lambda x:clean_parent(','.join(x)))"
   ]
  },
  {
   "cell_type": "code",
   "execution_count": 30,
   "id": "68d85cbe",
   "metadata": {},
   "outputs": [
    {
     "data": {
      "text/html": [
       "<div>\n",
       "<style scoped>\n",
       "    .dataframe tbody tr th:only-of-type {\n",
       "        vertical-align: middle;\n",
       "    }\n",
       "\n",
       "    .dataframe tbody tr th {\n",
       "        vertical-align: top;\n",
       "    }\n",
       "\n",
       "    .dataframe thead th {\n",
       "        text-align: right;\n",
       "    }\n",
       "</style>\n",
       "<table border=\"1\" class=\"dataframe\">\n",
       "  <thead>\n",
       "    <tr style=\"text-align: right;\">\n",
       "      <th></th>\n",
       "      <th>old</th>\n",
       "      <th>new</th>\n",
       "    </tr>\n",
       "  </thead>\n",
       "  <tbody>\n",
       "    <tr>\n",
       "      <th>Dell,_Inc.</th>\n",
       "      <td>[Dell Technologies]</td>\n",
       "      <td>[Dell Technologies]</td>\n",
       "    </tr>\n",
       "    <tr>\n",
       "      <th>Warner_Bros.</th>\n",
       "      <td>[Warner Bros. Discovery]</td>\n",
       "      <td>[Warner Bros. Discovery]</td>\n",
       "    </tr>\n",
       "    <tr>\n",
       "      <th>Malheur_Bell</th>\n",
       "      <td>[Rocky Mountain Bell, , MST&amp;T/US West/Qwest, ]</td>\n",
       "      <td>[Rocky Mountain Bell, MST&amp;T/US West/Qwest]</td>\n",
       "    </tr>\n",
       "    <tr>\n",
       "      <th>Jackson_National_Life</th>\n",
       "      <td>[Prudential plc]</td>\n",
       "      <td>[Prudential plc]</td>\n",
       "    </tr>\n",
       "    <tr>\n",
       "      <th>Shire_Pharmaceuticals</th>\n",
       "      <td>[Takeda Pharmaceutical Company, ]</td>\n",
       "      <td>[Takeda Pharmaceutical Company]</td>\n",
       "    </tr>\n",
       "    <tr>\n",
       "      <th>Kenexa_Corporation</th>\n",
       "      <td>[IBM]</td>\n",
       "      <td>[IBM]</td>\n",
       "    </tr>\n",
       "    <tr>\n",
       "      <th>AmTran</th>\n",
       "      <td>[Navistar International, ]</td>\n",
       "      <td>[Navistar International]</td>\n",
       "    </tr>\n",
       "    <tr>\n",
       "      <th>Ludwig_Drums</th>\n",
       "      <td>[Conn-Selmer]</td>\n",
       "      <td>[Conn-Selmer]</td>\n",
       "    </tr>\n",
       "    <tr>\n",
       "      <th>Tecumseh_Products</th>\n",
       "      <td>[Mueller Industries, , Atlas Holdings]</td>\n",
       "      <td>[Mueller Industries, Atlas Holdings]</td>\n",
       "    </tr>\n",
       "    <tr>\n",
       "      <th>Panda_Inn</th>\n",
       "      <td>[Panda Restaurant Group]</td>\n",
       "      <td>[Panda Restaurant Group]</td>\n",
       "    </tr>\n",
       "  </tbody>\n",
       "</table>\n",
       "</div>"
      ],
      "text/plain": [
       "                                                                  old  \\\n",
       "Dell,_Inc.                                        [Dell Technologies]   \n",
       "Warner_Bros.                                 [Warner Bros. Discovery]   \n",
       "Malheur_Bell           [Rocky Mountain Bell, , MST&T/US West/Qwest, ]   \n",
       "Jackson_National_Life                                [Prudential plc]   \n",
       "Shire_Pharmaceuticals               [Takeda Pharmaceutical Company, ]   \n",
       "Kenexa_Corporation                                              [IBM]   \n",
       "AmTran                                     [Navistar International, ]   \n",
       "Ludwig_Drums                                            [Conn-Selmer]   \n",
       "Tecumseh_Products              [Mueller Industries, , Atlas Holdings]   \n",
       "Panda_Inn                                    [Panda Restaurant Group]   \n",
       "\n",
       "                                                              new  \n",
       "Dell,_Inc.                                    [Dell Technologies]  \n",
       "Warner_Bros.                             [Warner Bros. Discovery]  \n",
       "Malheur_Bell           [Rocky Mountain Bell, MST&T/US West/Qwest]  \n",
       "Jackson_National_Life                            [Prudential plc]  \n",
       "Shire_Pharmaceuticals             [Takeda Pharmaceutical Company]  \n",
       "Kenexa_Corporation                                          [IBM]  \n",
       "AmTran                                   [Navistar International]  \n",
       "Ludwig_Drums                                        [Conn-Selmer]  \n",
       "Tecumseh_Products            [Mueller Industries, Atlas Holdings]  \n",
       "Panda_Inn                                [Panda Restaurant Group]  "
      ]
     },
     "execution_count": 30,
     "metadata": {},
     "output_type": "execute_result"
    }
   ],
   "source": [
    "compare_columns(selected_features_df[\"Parent\"], output_df[\"Parent\"])"
   ]
  },
  {
   "cell_type": "code",
   "execution_count": 31,
   "id": "11169545",
   "metadata": {},
   "outputs": [],
   "source": [
    "def extract_year(text):\n",
    "    match = re.search(r'\\b\\d{4}\\b', text)\n",
    "    return str(match.group()) if match else ''\n",
    "\n",
    "output_df[\"Founded\"] = selected_features_df[\"Founded\"].dropna().apply(lambda x:extract_year(','.join(x)))"
   ]
  },
  {
   "cell_type": "code",
   "execution_count": 32,
   "id": "5f5d0a0d",
   "metadata": {
    "scrolled": true
   },
   "outputs": [
    {
     "data": {
      "text/html": [
       "<div>\n",
       "<style scoped>\n",
       "    .dataframe tbody tr th:only-of-type {\n",
       "        vertical-align: middle;\n",
       "    }\n",
       "\n",
       "    .dataframe tbody tr th {\n",
       "        vertical-align: top;\n",
       "    }\n",
       "\n",
       "    .dataframe thead th {\n",
       "        text-align: right;\n",
       "    }\n",
       "</style>\n",
       "<table border=\"1\" class=\"dataframe\">\n",
       "  <thead>\n",
       "    <tr style=\"text-align: right;\">\n",
       "      <th></th>\n",
       "      <th>old</th>\n",
       "      <th>new</th>\n",
       "    </tr>\n",
       "  </thead>\n",
       "  <tbody>\n",
       "    <tr>\n",
       "      <th>HCA_Holdings,_Inc.</th>\n",
       "      <td>[1968, ; 55 years ago, , 1968, , Nashville, Te...</td>\n",
       "      <td>1968</td>\n",
       "    </tr>\n",
       "    <tr>\n",
       "      <th>Axalta_Coating_Systems</th>\n",
       "      <td>[1866, ; 157 years ago, , 1866, ]</td>\n",
       "      <td>1866</td>\n",
       "    </tr>\n",
       "    <tr>\n",
       "      <th>Space_Coast_Credit_Union</th>\n",
       "      <td>[1951]</td>\n",
       "      <td>1951</td>\n",
       "    </tr>\n",
       "    <tr>\n",
       "      <th>PooPrints</th>\n",
       "      <td>[2008, ; 15 years ago, , 2008, , in, Knoxville...</td>\n",
       "      <td>2008</td>\n",
       "    </tr>\n",
       "    <tr>\n",
       "      <th>Loud_Brothers</th>\n",
       "      <td>[1822]</td>\n",
       "      <td>1822</td>\n",
       "    </tr>\n",
       "    <tr>\n",
       "      <th>Rick%27s_Picks</th>\n",
       "      <td>[2004, , 2004, , in, Brooklyn, New York, , US]</td>\n",
       "      <td>2004</td>\n",
       "    </tr>\n",
       "    <tr>\n",
       "      <th>BE%26K</th>\n",
       "      <td>[1972]</td>\n",
       "      <td>1972</td>\n",
       "    </tr>\n",
       "    <tr>\n",
       "      <th>Invacare</th>\n",
       "      <td>[1885, ; 138 years ago, , 1885, ]</td>\n",
       "      <td>1885</td>\n",
       "    </tr>\n",
       "    <tr>\n",
       "      <th>The_Brink%27s_Company</th>\n",
       "      <td>[1859, ; 164 years ago, , 1859, ]</td>\n",
       "      <td>1859</td>\n",
       "    </tr>\n",
       "    <tr>\n",
       "      <th>Aimco</th>\n",
       "      <td>[1975 (as \"The Considine Company, Inc.\", 1994 ...</td>\n",
       "      <td>1975</td>\n",
       "    </tr>\n",
       "  </tbody>\n",
       "</table>\n",
       "</div>"
      ],
      "text/plain": [
       "                                                                        old  \\\n",
       "HCA_Holdings,_Inc.        [1968, ; 55 years ago, , 1968, , Nashville, Te...   \n",
       "Axalta_Coating_Systems                    [1866, ; 157 years ago, , 1866, ]   \n",
       "Space_Coast_Credit_Union                                             [1951]   \n",
       "PooPrints                 [2008, ; 15 years ago, , 2008, , in, Knoxville...   \n",
       "Loud_Brothers                                                        [1822]   \n",
       "Rick%27s_Picks               [2004, , 2004, , in, Brooklyn, New York, , US]   \n",
       "BE%26K                                                               [1972]   \n",
       "Invacare                                  [1885, ; 138 years ago, , 1885, ]   \n",
       "The_Brink%27s_Company                     [1859, ; 164 years ago, , 1859, ]   \n",
       "Aimco                     [1975 (as \"The Considine Company, Inc.\", 1994 ...   \n",
       "\n",
       "                           new  \n",
       "HCA_Holdings,_Inc.        1968  \n",
       "Axalta_Coating_Systems    1866  \n",
       "Space_Coast_Credit_Union  1951  \n",
       "PooPrints                 2008  \n",
       "Loud_Brothers             1822  \n",
       "Rick%27s_Picks            2004  \n",
       "BE%26K                    1972  \n",
       "Invacare                  1885  \n",
       "The_Brink%27s_Company     1859  \n",
       "Aimco                     1975  "
      ]
     },
     "execution_count": 32,
     "metadata": {},
     "output_type": "execute_result"
    }
   ],
   "source": [
    "compare_columns(selected_features_df[\"Founded\"], output_df[\"Founded\"])"
   ]
  },
  {
   "cell_type": "code",
   "execution_count": 33,
   "id": "5ad5aa16",
   "metadata": {},
   "outputs": [],
   "source": [
    "def get_ticker(tickers):\n",
    "    filters = [\"TSX\", \"ASX\", \"AMEX\", \"SIX\", \"FWB\", \"LSE\", \"OTCQB\", \"TYO\", \"NASDAQ\", 'TOPIX', 'NAG']\n",
    "    for i in tickers:\n",
    "        items = re.findall(r'\\b[A-Z]+\\b', i)\n",
    "        if items:\n",
    "            ticker = items[0]\n",
    "            if ticker not in filters:\n",
    "                return clean_boxes(ticker)\n",
    "\n",
    "output_df[\"Ticker\"] = selected_features_df[\"Traded as\"].dropna().apply(lambda x:get_ticker(x))"
   ]
  },
  {
   "cell_type": "code",
   "execution_count": 34,
   "id": "e3ca0b69",
   "metadata": {},
   "outputs": [
    {
     "data": {
      "text/html": [
       "<div>\n",
       "<style scoped>\n",
       "    .dataframe tbody tr th:only-of-type {\n",
       "        vertical-align: middle;\n",
       "    }\n",
       "\n",
       "    .dataframe tbody tr th {\n",
       "        vertical-align: top;\n",
       "    }\n",
       "\n",
       "    .dataframe thead th {\n",
       "        text-align: right;\n",
       "    }\n",
       "</style>\n",
       "<table border=\"1\" class=\"dataframe\">\n",
       "  <thead>\n",
       "    <tr style=\"text-align: right;\">\n",
       "      <th></th>\n",
       "      <th>old</th>\n",
       "      <th>new</th>\n",
       "    </tr>\n",
       "  </thead>\n",
       "  <tbody>\n",
       "    <tr>\n",
       "      <th>Cathay_Bank</th>\n",
       "      <td>[, :, CATY,  Component]</td>\n",
       "      <td>CATY</td>\n",
       "    </tr>\n",
       "    <tr>\n",
       "      <th>Knoll_(company)</th>\n",
       "      <td>[, :, MLKN, , ]</td>\n",
       "      <td>MLKN</td>\n",
       "    </tr>\n",
       "    <tr>\n",
       "      <th>Mastercard</th>\n",
       "      <td>[, :, MA, (Class A), , , , ]</td>\n",
       "      <td>MA</td>\n",
       "    </tr>\n",
       "    <tr>\n",
       "      <th>Waste_Connections</th>\n",
       "      <td>[TSX, :, WCN, /TSX 60 ]</td>\n",
       "      <td>WCN</td>\n",
       "    </tr>\n",
       "    <tr>\n",
       "      <th>Frontier_Communications</th>\n",
       "      <td>[, :, FYBR, , ]</td>\n",
       "      <td>FYBR</td>\n",
       "    </tr>\n",
       "    <tr>\n",
       "      <th>Deckers_Outdoor_Corporation</th>\n",
       "      <td>[, :, DECK, , Component]</td>\n",
       "      <td>DECK</td>\n",
       "    </tr>\n",
       "    <tr>\n",
       "      <th>United_Technologies</th>\n",
       "      <td>[, : UTX]</td>\n",
       "      <td>UTX</td>\n",
       "    </tr>\n",
       "    <tr>\n",
       "      <th>Sabre_Corporation</th>\n",
       "      <td>[, :, SABR, , ]</td>\n",
       "      <td>SABR</td>\n",
       "    </tr>\n",
       "    <tr>\n",
       "      <th>Diamondback_Energy</th>\n",
       "      <td>[, :, FANG, , , , ]</td>\n",
       "      <td>FANG</td>\n",
       "    </tr>\n",
       "    <tr>\n",
       "      <th>UnitedHealth_Group</th>\n",
       "      <td>[, :, UNH, DJIA, , , , , ]</td>\n",
       "      <td>UNH</td>\n",
       "    </tr>\n",
       "  </tbody>\n",
       "</table>\n",
       "</div>"
      ],
      "text/plain": [
       "                                                      old   new\n",
       "Cathay_Bank                       [, :, CATY,  Component]  CATY\n",
       "Knoll_(company)                           [, :, MLKN, , ]  MLKN\n",
       "Mastercard                   [, :, MA, (Class A), , , , ]    MA\n",
       "Waste_Connections                 [TSX, :, WCN, /TSX 60 ]   WCN\n",
       "Frontier_Communications                   [, :, FYBR, , ]  FYBR\n",
       "Deckers_Outdoor_Corporation      [, :, DECK, , Component]  DECK\n",
       "United_Technologies                             [, : UTX]   UTX\n",
       "Sabre_Corporation                         [, :, SABR, , ]  SABR\n",
       "Diamondback_Energy                    [, :, FANG, , , , ]  FANG\n",
       "UnitedHealth_Group             [, :, UNH, DJIA, , , , , ]   UNH"
      ]
     },
     "execution_count": 34,
     "metadata": {},
     "output_type": "execute_result"
    }
   ],
   "source": [
    "compare_columns(selected_features_df[\"Traded as\"], output_df[\"Ticker\"])"
   ]
  },
  {
   "cell_type": "code",
   "execution_count": 35,
   "id": "c3f9999f",
   "metadata": {},
   "outputs": [],
   "source": [
    "temp = selected_features_df[\"Defunct\"].combine_first(selected_features_df[\"Fate\"]).dropna().index\n",
    "selected_features_df.loc[temp, 'is_defunct'] = True\n",
    "\n",
    "output_df['is_defunct'] = selected_features_df['is_defunct']"
   ]
  },
  {
   "cell_type": "markdown",
   "id": "2169fb92",
   "metadata": {},
   "source": [
    "### Extracting HQ information"
   ]
  },
  {
   "cell_type": "code",
   "execution_count": 36,
   "id": "5a34afa0",
   "metadata": {},
   "outputs": [],
   "source": [
    "def clean_headquarters(components):\n",
    "    if isinstance(components, list):\n",
    "        cleaned_components = [re.sub(r'[^a-zA-Z\\s,]', '', str(comp)).strip() for comp in components]\n",
    "        cleaned_components = [clean_boxes(comp) for comp in cleaned_components if comp]\n",
    "        return ','.join(cleaned_components).replace(',,',',').replace(r',',', ').replace(r',  ',', ')\n",
    "    else:\n",
    "        return components\n",
    "    \n",
    "selected_features_df[\"HQ\"] = selected_features_df[\"Headquarters\"].dropna().apply(clean_headquarters)"
   ]
  },
  {
   "cell_type": "code",
   "execution_count": 37,
   "id": "0528f1af",
   "metadata": {},
   "outputs": [],
   "source": [
    "with open(\"US cities.txt\") as f:\n",
    "    us_data = f.read()\n",
    "    \n",
    "us_data_df = pd.DataFrame(', '.join(us_data.split('\\t')).split('\\n'))\n",
    "us_data_df.columns = [\"US cities\"]\n",
    "us_data_df = pd.DataFrame(us_data_df[\"US cities\"].apply(lambda x:x.split(',')).tolist())\n",
    "us_data_df[2] = us_data_df[2].str.replace('-','').str.strip()\n",
    "us_data_df[3] = us_data_df[3].str.strip()\n",
    "\n",
    "us_cities = set(us_data_df[2].str.replace('-','').str.strip().dropna())"
   ]
  },
  {
   "cell_type": "code",
   "execution_count": 38,
   "id": "b81a0dd3",
   "metadata": {},
   "outputs": [],
   "source": [
    "us_states_dict = {'AL': 'Alabama', 'AK': 'Alaska', 'AZ': 'Arizona', 'AR': 'Arkansas', 'CA': 'California', 'CO': 'Colorado', 'CT': 'Connecticut', 'DE': 'Delaware', 'DC': 'District of Columbia', 'FL': 'Florida', 'GA': 'Georgia', 'HI': 'Hawaii', 'ID': 'Idaho', 'IL': 'Illinois', 'IN': 'Indiana', 'IA': 'Iowa', 'KS': 'Kansas', 'KY': 'Kentucky', 'LA': 'Louisiana', 'ME': 'Maine', 'MH': 'Marshall Islands', 'MD': 'Maryland', 'MA': 'Massachusetts', 'MI': 'Michigan', 'MN': 'Minnesota', 'MS': 'Mississippi', 'MO': 'Missouri', 'MT': 'Montana', 'NE': 'Nebraska', 'NV': 'Nevada', 'NH': 'New Hampshire', 'NJ': 'New Jersey', 'NM': 'New Mexico', 'NY': 'New York', 'NC': 'North Carolina', 'ND': 'North Dakota', 'OH': 'Ohio', 'OK': 'Oklahoma', 'OR': 'Oregon', 'PA': 'Pennsylvania', 'RI': 'Rhode Island', 'SC': 'South Carolina', 'SD': 'South Dakota', 'TN': 'Tennessee', 'TX': 'Texas', 'UT': 'Utah', 'VT': 'Vermont', 'VA': 'Virginia', 'WA': 'Washington', 'WV': 'West Virginia', 'WI': 'Wisconsin', 'WY': 'Wyoming'}"
   ]
  },
  {
   "cell_type": "code",
   "execution_count": 39,
   "id": "63630214",
   "metadata": {},
   "outputs": [],
   "source": [
    "us_cities_dict = us_data_df.groupby(3)[2].apply(lambda x: set(x)).to_dict()"
   ]
  },
  {
   "cell_type": "code",
   "execution_count": 40,
   "id": "be8bf720",
   "metadata": {},
   "outputs": [],
   "source": [
    "state_pattern = '|'.join(sorted(us_states_dict.values(), key=len, reverse=True))\n",
    "state_regex = re.compile(rf'({state_pattern})', re.IGNORECASE)\n",
    "\n",
    "state_shortname_pattern = '|'.join(sorted(us_states_dict.keys(), key=len, reverse=True))\n",
    "state_shortname_regex = re.compile(rf'({state_shortname_pattern})')\n",
    "\n",
    "city_pattern = r'\\b|\\b'.join(sorted(us_cities, key=len, reverse=True))\n",
    "city_regex = re.compile(rf'({city_pattern})')"
   ]
  },
  {
   "cell_type": "code",
   "execution_count": 41,
   "id": "6d4614d4",
   "metadata": {},
   "outputs": [],
   "source": [
    "selected_features_df[\"HQ State\"] = selected_features_df[\"HQ\"].dropna().apply(lambda x:state_regex.search(x).group(0) if state_regex.search(x) else None)\n",
    "\n",
    "empty_hq_state_index = selected_features_df[\"HQ State\"].loc[selected_features_df[\"HQ State\"].isnull()].index\n",
    "empty_hq_state = selected_features_df[\"HQ\"].loc[empty_hq_state_index].dropna()\n",
    "selected_features_df[\"HQ Short State\"] = empty_hq_state.apply(lambda x:us_states_dict.get(state_shortname_regex.search(x).group(0) if state_shortname_regex.search(x) else None)).dropna()\n",
    "\n",
    "selected_features_df[\"HQ State\"] = selected_features_df[\"HQ State\"].combine_first(selected_features_df[\"HQ Short State\"]).dropna()"
   ]
  },
  {
   "cell_type": "code",
   "execution_count": 42,
   "id": "46011885",
   "metadata": {},
   "outputs": [],
   "source": [
    "selected_features_df[\"HQ City\"] = selected_features_df[\"HQ\"].dropna().apply(lambda x:city_regex.search(x).group(0) if city_regex.search(x) else None)"
   ]
  },
  {
   "cell_type": "code",
   "execution_count": 43,
   "id": "c56f2029",
   "metadata": {},
   "outputs": [],
   "source": [
    "def get_city(state, city, us_cities_dict):\n",
    "    cities = us_cities_dict.get(state, set())\n",
    "    return True if city in cities else False\n",
    "\n",
    "def get_alt_city_state(state, alt_cities, alt_states, us_cities_dict, default = \"city\"):\n",
    "    \n",
    "    def _check_city():\n",
    "        cities = us_cities_dict.get(state, set())\n",
    "        if isinstance(alt_cities, list):\n",
    "            for city in alt_cities[::-1]:\n",
    "                if city in cities:\n",
    "                    return city if default == \"city\" else state\n",
    "    \n",
    "    _check_city()\n",
    "    if isinstance(alt_states, set):\n",
    "        for state in alt_states-{state}:\n",
    "            _check_city()"
   ]
  },
  {
   "cell_type": "code",
   "execution_count": 44,
   "id": "632cc3f1",
   "metadata": {},
   "outputs": [],
   "source": [
    "temp_df = selected_features_df[[\"HQ\", \"HQ City\", \"HQ State\"]].dropna(how='all')\n",
    "\n",
    "temp_df[\"IsCityInState\"] = temp_df.apply(lambda row: get_city(row[\"HQ State\"], row[\"HQ City\"], us_cities_dict), axis=1)\n",
    "wrong_cities_index = (temp_df.loc[temp_df[\"IsCityInState\"] == False]).index\n",
    "\n",
    "temp_df[\"Alternative Cities\"] = temp_df.loc[wrong_cities_index][\"HQ\"].dropna().apply(lambda x:re.findall(city_regex, x) if city_regex.search(x) else None)\n",
    "\n",
    "alt_states = temp_df[\"HQ\"].dropna().apply(lambda x:set(re.findall(state_regex, x)) if state_regex.search(x) else None).dropna()\n",
    "temp_df[\"Alternative States\"] = alt_states.loc[alt_states.apply(lambda x:len(x))>1]\n",
    "\n",
    "temp_df[\"Alt City\"] = temp_df.apply(lambda row: get_alt_city_state(row[\"HQ State\"], row[\"Alternative Cities\"], row[\"Alternative States\"], us_cities_dict, default = \"city\"), axis=1)\n",
    "temp_df[\"Alt State\"] = temp_df.apply(lambda row: get_alt_city_state(row[\"HQ State\"], row[\"Alternative Cities\"], row[\"Alternative States\"], us_cities_dict, default = \"state\"), axis=1)\n",
    "\n",
    "temp_df[\"IsAltCityInAltState\"] = temp_df.apply(lambda row: get_city(row[\"Alt State\"], row[\"Alt City\"], us_cities_dict), axis=1)\n"
   ]
  },
  {
   "cell_type": "code",
   "execution_count": 45,
   "id": "73ab3a7e",
   "metadata": {},
   "outputs": [
    {
     "data": {
      "text/html": [
       "<div>\n",
       "<style scoped>\n",
       "    .dataframe tbody tr th:only-of-type {\n",
       "        vertical-align: middle;\n",
       "    }\n",
       "\n",
       "    .dataframe tbody tr th {\n",
       "        vertical-align: top;\n",
       "    }\n",
       "\n",
       "    .dataframe thead th {\n",
       "        text-align: right;\n",
       "    }\n",
       "</style>\n",
       "<table border=\"1\" class=\"dataframe\">\n",
       "  <thead>\n",
       "    <tr style=\"text-align: right;\">\n",
       "      <th></th>\n",
       "      <th>HQ</th>\n",
       "      <th>HQ City</th>\n",
       "      <th>HQ State</th>\n",
       "      <th>IsCityInState</th>\n",
       "      <th>Alternative Cities</th>\n",
       "      <th>Alternative States</th>\n",
       "      <th>Alt City</th>\n",
       "      <th>Alt State</th>\n",
       "      <th>IsAltCityInAltState</th>\n",
       "    </tr>\n",
       "  </thead>\n",
       "  <tbody>\n",
       "    <tr>\n",
       "      <th>FedEx</th>\n",
       "      <td>S Shady Grove Rd, Memphis, Tennessee, US</td>\n",
       "      <td>Shady Grove</td>\n",
       "      <td>Tennessee</td>\n",
       "      <td>False</td>\n",
       "      <td>[Shady Grove, Memphis, Tennessee]</td>\n",
       "      <td>NaN</td>\n",
       "      <td>None</td>\n",
       "      <td>None</td>\n",
       "      <td>False</td>\n",
       "    </tr>\n",
       "    <tr>\n",
       "      <th>Valpak</th>\n",
       "      <td>St Petersburg, Florida, US</td>\n",
       "      <td>Petersburg</td>\n",
       "      <td>Florida</td>\n",
       "      <td>False</td>\n",
       "      <td>[Petersburg, Florida]</td>\n",
       "      <td>NaN</td>\n",
       "      <td>None</td>\n",
       "      <td>None</td>\n",
       "      <td>False</td>\n",
       "    </tr>\n",
       "    <tr>\n",
       "      <th>Woolrich</th>\n",
       "      <td>Bologna, Italy</td>\n",
       "      <td>Italy</td>\n",
       "      <td>NaN</td>\n",
       "      <td>False</td>\n",
       "      <td>[Italy]</td>\n",
       "      <td>NaN</td>\n",
       "      <td>None</td>\n",
       "      <td>None</td>\n",
       "      <td>False</td>\n",
       "    </tr>\n",
       "    <tr>\n",
       "      <th>G1_Therapeutics</th>\n",
       "      <td>North Carolina, United States</td>\n",
       "      <td>North</td>\n",
       "      <td>North Carolina</td>\n",
       "      <td>False</td>\n",
       "      <td>[North, Carolina, United]</td>\n",
       "      <td>NaN</td>\n",
       "      <td>None</td>\n",
       "      <td>None</td>\n",
       "      <td>False</td>\n",
       "    </tr>\n",
       "    <tr>\n",
       "      <th>Randall_Made_Knives</th>\n",
       "      <td>S Orange Blossom Trail, Orlando, Florida</td>\n",
       "      <td>Orange</td>\n",
       "      <td>Florida</td>\n",
       "      <td>False</td>\n",
       "      <td>[Orange, Blossom, Trail, Orlando, Florida]</td>\n",
       "      <td>NaN</td>\n",
       "      <td>None</td>\n",
       "      <td>None</td>\n",
       "      <td>False</td>\n",
       "    </tr>\n",
       "  </tbody>\n",
       "</table>\n",
       "</div>"
      ],
      "text/plain": [
       "                                                           HQ      HQ City  \\\n",
       "FedEx                S Shady Grove Rd, Memphis, Tennessee, US  Shady Grove   \n",
       "Valpak                             St Petersburg, Florida, US   Petersburg   \n",
       "Woolrich                                       Bologna, Italy        Italy   \n",
       "G1_Therapeutics                 North Carolina, United States        North   \n",
       "Randall_Made_Knives  S Orange Blossom Trail, Orlando, Florida       Orange   \n",
       "\n",
       "                           HQ State  IsCityInState  \\\n",
       "FedEx                     Tennessee          False   \n",
       "Valpak                      Florida          False   \n",
       "Woolrich                        NaN          False   \n",
       "G1_Therapeutics      North Carolina          False   \n",
       "Randall_Made_Knives         Florida          False   \n",
       "\n",
       "                                             Alternative Cities  \\\n",
       "FedEx                         [Shady Grove, Memphis, Tennessee]   \n",
       "Valpak                                    [Petersburg, Florida]   \n",
       "Woolrich                                                [Italy]   \n",
       "G1_Therapeutics                       [North, Carolina, United]   \n",
       "Randall_Made_Knives  [Orange, Blossom, Trail, Orlando, Florida]   \n",
       "\n",
       "                    Alternative States Alt City Alt State  IsAltCityInAltState  \n",
       "FedEx                              NaN     None      None                False  \n",
       "Valpak                             NaN     None      None                False  \n",
       "Woolrich                           NaN     None      None                False  \n",
       "G1_Therapeutics                    NaN     None      None                False  \n",
       "Randall_Made_Knives                NaN     None      None                False  "
      ]
     },
     "execution_count": 45,
     "metadata": {},
     "output_type": "execute_result"
    }
   ],
   "source": [
    "# Possible Wrong mappings of either City or State from HQ\n",
    "temp_df.loc[(temp_df[\"IsCityInState\"]==False) & (temp_df[\"IsAltCityInAltState\"]==False)].sample(5)#.loc[\"Red_Robin\"][\"HQ\"]"
   ]
  },
  {
   "cell_type": "code",
   "execution_count": 46,
   "id": "2d8e5ffe",
   "metadata": {},
   "outputs": [],
   "source": [
    "temp_df[\"Alt City\"] = temp_df[\"Alt City\"].combine_first(temp_df[\"HQ City\"]).dropna()\n",
    "temp_df[\"Alt State\"] = temp_df[\"Alt State\"].combine_first(temp_df[\"HQ State\"]).dropna()\n",
    "\n",
    "selected_features_df[\"HQ State\"] = temp_df[\"Alt State\"]\n",
    "selected_features_df[\"HQ City\"] = temp_df[\"Alt City\"]"
   ]
  },
  {
   "cell_type": "code",
   "execution_count": 47,
   "id": "dd5c156a",
   "metadata": {},
   "outputs": [
    {
     "data": {
      "text/html": [
       "<div>\n",
       "<style scoped>\n",
       "    .dataframe tbody tr th:only-of-type {\n",
       "        vertical-align: middle;\n",
       "    }\n",
       "\n",
       "    .dataframe tbody tr th {\n",
       "        vertical-align: top;\n",
       "    }\n",
       "\n",
       "    .dataframe thead th {\n",
       "        text-align: right;\n",
       "    }\n",
       "</style>\n",
       "<table border=\"1\" class=\"dataframe\">\n",
       "  <thead>\n",
       "    <tr style=\"text-align: right;\">\n",
       "      <th></th>\n",
       "      <th>Headquarters</th>\n",
       "      <th>HQ</th>\n",
       "      <th>HQ City</th>\n",
       "      <th>HQ State</th>\n",
       "    </tr>\n",
       "  </thead>\n",
       "  <tbody>\n",
       "    <tr>\n",
       "      <th>Venafi</th>\n",
       "      <td>[Salt Lake City, UT, , United States]</td>\n",
       "      <td>Salt Lake City, UT, United States</td>\n",
       "      <td>Salt Lake City</td>\n",
       "      <td>Utah</td>\n",
       "    </tr>\n",
       "    <tr>\n",
       "      <th>PricewaterhouseCoopers</th>\n",
       "      <td>[London, , England]</td>\n",
       "      <td>London, England</td>\n",
       "      <td>London</td>\n",
       "      <td>NaN</td>\n",
       "    </tr>\n",
       "    <tr>\n",
       "      <th>704Games</th>\n",
       "      <td>[Charlotte, , North Carolina, , United States]</td>\n",
       "      <td>Charlotte, North Carolina, United States</td>\n",
       "      <td>Charlotte</td>\n",
       "      <td>North Carolina</td>\n",
       "    </tr>\n",
       "    <tr>\n",
       "      <th>Argon_ST</th>\n",
       "      <td>[Fairfax, Virginia, , United States]</td>\n",
       "      <td>Fairfax, Virginia, United States</td>\n",
       "      <td>Fairfax</td>\n",
       "      <td>Virginia</td>\n",
       "    </tr>\n",
       "    <tr>\n",
       "      <th>The_Reynolds_and_Reynolds_Company</th>\n",
       "      <td>[1 Reynolds Way, Dayton, Ohio, , U.S.]</td>\n",
       "      <td>Reynolds Way, Dayton, Ohio, US</td>\n",
       "      <td>Reynolds</td>\n",
       "      <td>Ohio</td>\n",
       "    </tr>\n",
       "  </tbody>\n",
       "</table>\n",
       "</div>"
      ],
      "text/plain": [
       "                                                                     Headquarters  \\\n",
       "Venafi                                      [Salt Lake City, UT, , United States]   \n",
       "PricewaterhouseCoopers                                        [London, , England]   \n",
       "704Games                           [Charlotte, , North Carolina, , United States]   \n",
       "Argon_ST                                     [Fairfax, Virginia, , United States]   \n",
       "The_Reynolds_and_Reynolds_Company          [1 Reynolds Way, Dayton, Ohio, , U.S.]   \n",
       "\n",
       "                                                                         HQ  \\\n",
       "Venafi                                    Salt Lake City, UT, United States   \n",
       "PricewaterhouseCoopers                                      London, England   \n",
       "704Games                           Charlotte, North Carolina, United States   \n",
       "Argon_ST                                   Fairfax, Virginia, United States   \n",
       "The_Reynolds_and_Reynolds_Company            Reynolds Way, Dayton, Ohio, US   \n",
       "\n",
       "                                          HQ City        HQ State  \n",
       "Venafi                             Salt Lake City            Utah  \n",
       "PricewaterhouseCoopers                     London             NaN  \n",
       "704Games                                Charlotte  North Carolina  \n",
       "Argon_ST                                  Fairfax        Virginia  \n",
       "The_Reynolds_and_Reynolds_Company        Reynolds            Ohio  "
      ]
     },
     "execution_count": 47,
     "metadata": {},
     "output_type": "execute_result"
    }
   ],
   "source": [
    "selected_features_df[[\"Headquarters\",\"HQ\", \"HQ City\", \"HQ State\"]].dropna(how='all').sample(5)"
   ]
  },
  {
   "cell_type": "code",
   "execution_count": 48,
   "id": "e5b9e690",
   "metadata": {},
   "outputs": [],
   "source": [
    "output_df[\"HQ\"] = selected_features_df[\"HQ\"]\n",
    "output_df[\"HQ State\"] = selected_features_df[\"HQ State\"]\n",
    "output_df[\"HQ City\"] = selected_features_df[\"HQ City\"]                                       "
   ]
  },
  {
   "cell_type": "markdown",
   "id": "f06924ed",
   "metadata": {},
   "source": [
    "### Transforming columns 'Total equity', 'Total assets', 'Net income', 'Operating income', 'Revenue' into `\"Net Worth\"`"
   ]
  },
  {
   "cell_type": "code",
   "execution_count": 49,
   "id": "259af938",
   "metadata": {},
   "outputs": [],
   "source": [
    "def filter_net_worth(df, col):\n",
    "    pattern = r'(?i)(?:(?P<us>\\bUSD?\\s?)?[$]?\\s?((?P<int>[0-9,]+[.])?[0-9,]+)(\\s?(?P<unit>[MBbT]illion))?)'\n",
    "    temp_df = df.loc[(df[\"Processed\"].isnull()) | (df[\"Processed\"]=='e')][col].dropna().apply(lambda x:''.join(x)).str.extract(pattern, expand=True)\n",
    "    temp_df.loc[(temp_df['unit']=='billion') | (temp_df['unit']=='Billion'), \"Processed\"] = 'b'\n",
    "    temp_df.loc[(temp_df['unit']=='million') | (temp_df['unit']=='Million'), \"Processed\"] = 'm'\n",
    "    temp_df.loc[temp_df['unit'].isnull(), \"Processed\"] = \"e\"\n",
    "    processed_companies = set(temp_df.index)\n",
    "    df.loc[list(processed_companies), \"Processed\"] = temp_df[\"Processed\"]\n",
    "    return df"
   ]
  },
  {
   "cell_type": "code",
   "execution_count": 50,
   "id": "d18ed6c7",
   "metadata": {},
   "outputs": [],
   "source": [
    "def _get_net_worth_category(revenue_size):    \n",
    "    if 0 < revenue_size <= 1 :\n",
    "        return 'Micro ($0-$1MM)'\n",
    "    elif 1  < revenue_size <= 10 :\n",
    "        return 'Small ($1MM-$10MM)'\n",
    "    elif 10  < revenue_size <= 50 :\n",
    "        return 'Medium-Small ($10MM- $50MM)'\n",
    "    elif 50  < revenue_size <= 100 :\n",
    "        return 'Medium-Large ($50MM-$100MM)'\n",
    "    elif 100  < revenue_size <= 200 :\n",
    "        return 'Large ($100MM-$200MM)'\n",
    "    elif 200  < revenue_size <= 1000 :\n",
    "        return 'XLarge ($200MM-$1B)'\n",
    "    elif revenue_size > 1000 :\n",
    "        return 'XXLarge ($1B+)'\n",
    "\n",
    "\n",
    "def extract_net_worth(df, col):\n",
    "    pattern = r'(?i)(?:(?P<us>\\bUSD?\\s?)?[$]?\\s?((?P<int>[0-9,]+[.])?[0-9,]+)(\\s?(?P<unit>[MBbT]illion))?)'\n",
    "    temp_df = df.loc[(df[\"Processed\"]=='m')][col].dropna().apply(lambda x:''.join(x)).str.extract(pattern, expand=True)\n",
    "    temp_df['Net Worth'] = temp_df[1].apply(lambda x: ''.join(x.split(',')).split('.')[0].strip() if isinstance(x, str) else '').apply(lambda x: _get_net_worth_category(int(x) if x else 0))\n",
    "    processed_companies = set(temp_df.index)\n",
    "    df.loc[list(processed_companies), \"Net Worth\"] = temp_df[\"Net Worth\"]\n",
    "    return df"
   ]
  },
  {
   "cell_type": "code",
   "execution_count": 51,
   "id": "b8de1d4f",
   "metadata": {},
   "outputs": [],
   "source": [
    "temp_df = selected_features_df[[\"Total assets\", 'Total equity', 'Net income', 'Operating income', 'Revenue']][:]\n",
    "temp_df['Processed'] = None\n",
    "\n",
    "temp_df = filter_net_worth(temp_df, col = 'Total assets')\n",
    "temp_df = filter_net_worth(temp_df, col = 'Total equity')\n",
    "temp_df = filter_net_worth(temp_df, col = 'Revenue')\n",
    "temp_df = filter_net_worth(temp_df, col = 'Operating income')\n",
    "temp_df = filter_net_worth(temp_df, col = 'Net income')\n",
    "\n",
    "\n",
    "temp_df.loc[temp_df['Processed']=='b', 'Net Worth'] = \"XXLarge ($1B+)\"\n",
    "temp_df = extract_net_worth(temp_df, col = 'Total assets')\n",
    "temp_df = extract_net_worth(temp_df, col = 'Total equity')\n",
    "temp_df = extract_net_worth(temp_df, col = 'Revenue')"
   ]
  },
  {
   "cell_type": "code",
   "execution_count": 52,
   "id": "9440ee77",
   "metadata": {},
   "outputs": [],
   "source": [
    "# Not processing records with category 'e'\n",
    "\n",
    "# temp_df.loc[(temp_df['Processed']=='e')].dropna(how='all')['Total assets'].dropna()"
   ]
  },
  {
   "cell_type": "code",
   "execution_count": 53,
   "id": "07f2602e",
   "metadata": {},
   "outputs": [],
   "source": [
    "selected_features_df[\"Net Worth\"] = temp_df[\"Net Worth\"]\n",
    "output_df[\"Net Worth\"] = selected_features_df[\"Net Worth\"]"
   ]
  },
  {
   "cell_type": "code",
   "execution_count": 54,
   "id": "fdf81ead",
   "metadata": {},
   "outputs": [
    {
     "data": {
      "text/plain": [
       "XXLarge ($1B+)                 1472\n",
       "XLarge ($200MM-$1B)             268\n",
       "Large ($100MM-$200MM)            69\n",
       "Medium-Large ($50MM-$100MM)      40\n",
       "Medium-Small ($10MM- $50MM)      39\n",
       "Small ($1MM-$10MM)               25\n",
       "Micro ($0-$1MM)                  15\n",
       "Name: Net Worth, dtype: int64"
      ]
     },
     "execution_count": 54,
     "metadata": {},
     "output_type": "execute_result"
    }
   ],
   "source": [
    "output_df['Net Worth'].value_counts()"
   ]
  },
  {
   "cell_type": "code",
   "execution_count": 55,
   "id": "bcd764d9",
   "metadata": {},
   "outputs": [
    {
     "data": {
      "text/html": [
       "<div>\n",
       "<style scoped>\n",
       "    .dataframe tbody tr th:only-of-type {\n",
       "        vertical-align: middle;\n",
       "    }\n",
       "\n",
       "    .dataframe tbody tr th {\n",
       "        vertical-align: top;\n",
       "    }\n",
       "\n",
       "    .dataframe thead th {\n",
       "        text-align: right;\n",
       "    }\n",
       "</style>\n",
       "<table border=\"1\" class=\"dataframe\">\n",
       "  <thead>\n",
       "    <tr style=\"text-align: right;\">\n",
       "      <th></th>\n",
       "      <th>Total assets</th>\n",
       "      <th>Total equity</th>\n",
       "      <th>Net income</th>\n",
       "      <th>Operating income</th>\n",
       "      <th>Revenue</th>\n",
       "      <th>Net Worth</th>\n",
       "    </tr>\n",
       "  </thead>\n",
       "  <tbody>\n",
       "    <tr>\n",
       "      <th>Applied_Micro_Circuits_Corporation</th>\n",
       "      <td>[US$, 316 million, , FY 2010, , ]</td>\n",
       "      <td>[US$, 281 million, , FY 2010, , ]</td>\n",
       "      <td>[US$, -7.49 million, , FY 2010, , ]</td>\n",
       "      <td>[US$, -26.1 million, , FY 2010, , ]</td>\n",
       "      <td>[US$, 206 million, , FY 2010, , ]</td>\n",
       "      <td>XLarge ($200MM-$1B)</td>\n",
       "    </tr>\n",
       "    <tr>\n",
       "      <th>RingCentral</th>\n",
       "      <td>[, US$2.07 billion, ]</td>\n",
       "      <td>[, US$−483 million, ]</td>\n",
       "      <td>[, US$−879 million, ]</td>\n",
       "      <td>[, US$−649 million, ]</td>\n",
       "      <td>[, US$, 1.99 billion, ]</td>\n",
       "      <td>XXLarge ($1B+)</td>\n",
       "    </tr>\n",
       "    <tr>\n",
       "      <th>Beckman_Coulter</th>\n",
       "      <td>[US$, 4.88B, , FY 2010, , ]</td>\n",
       "      <td>[US$, 2.13B, , FY 2010, , ]</td>\n",
       "      <td>[US$, 231M, , FY 2010, , ]</td>\n",
       "      <td>[US$, 405M, , FY 2010, , ]</td>\n",
       "      <td>[US$, 3.66B, , FY 2010, , ]</td>\n",
       "      <td>NaN</td>\n",
       "    </tr>\n",
       "    <tr>\n",
       "      <th>Oath_Inc.</th>\n",
       "      <td>NaN</td>\n",
       "      <td>NaN</td>\n",
       "      <td>NaN</td>\n",
       "      <td>NaN</td>\n",
       "      <td>[$7.4 billion , ]</td>\n",
       "      <td>XXLarge ($1B+)</td>\n",
       "    </tr>\n",
       "    <tr>\n",
       "      <th>Quanta_Services</th>\n",
       "      <td>NaN</td>\n",
       "      <td>NaN</td>\n",
       "      <td>NaN</td>\n",
       "      <td>NaN</td>\n",
       "      <td>[$9.466 billion, USD, , ]</td>\n",
       "      <td>XXLarge ($1B+)</td>\n",
       "    </tr>\n",
       "  </tbody>\n",
       "</table>\n",
       "</div>"
      ],
      "text/plain": [
       "                                                         Total assets  \\\n",
       "Applied_Micro_Circuits_Corporation  [US$, 316 million, , FY 2010, , ]   \n",
       "RingCentral                                     [, US$2.07 billion, ]   \n",
       "Beckman_Coulter                           [US$, 4.88B, , FY 2010, , ]   \n",
       "Oath_Inc.                                                         NaN   \n",
       "Quanta_Services                                                   NaN   \n",
       "\n",
       "                                                         Total equity  \\\n",
       "Applied_Micro_Circuits_Corporation  [US$, 281 million, , FY 2010, , ]   \n",
       "RingCentral                                     [, US$−483 million, ]   \n",
       "Beckman_Coulter                           [US$, 2.13B, , FY 2010, , ]   \n",
       "Oath_Inc.                                                         NaN   \n",
       "Quanta_Services                                                   NaN   \n",
       "\n",
       "                                                             Net income  \\\n",
       "Applied_Micro_Circuits_Corporation  [US$, -7.49 million, , FY 2010, , ]   \n",
       "RingCentral                                       [, US$−879 million, ]   \n",
       "Beckman_Coulter                              [US$, 231M, , FY 2010, , ]   \n",
       "Oath_Inc.                                                           NaN   \n",
       "Quanta_Services                                                     NaN   \n",
       "\n",
       "                                                       Operating income  \\\n",
       "Applied_Micro_Circuits_Corporation  [US$, -26.1 million, , FY 2010, , ]   \n",
       "RingCentral                                       [, US$−649 million, ]   \n",
       "Beckman_Coulter                              [US$, 405M, , FY 2010, , ]   \n",
       "Oath_Inc.                                                           NaN   \n",
       "Quanta_Services                                                     NaN   \n",
       "\n",
       "                                                              Revenue  \\\n",
       "Applied_Micro_Circuits_Corporation  [US$, 206 million, , FY 2010, , ]   \n",
       "RingCentral                                   [, US$, 1.99 billion, ]   \n",
       "Beckman_Coulter                           [US$, 3.66B, , FY 2010, , ]   \n",
       "Oath_Inc.                                           [$7.4 billion , ]   \n",
       "Quanta_Services                             [$9.466 billion, USD, , ]   \n",
       "\n",
       "                                              Net Worth  \n",
       "Applied_Micro_Circuits_Corporation  XLarge ($200MM-$1B)  \n",
       "RingCentral                              XXLarge ($1B+)  \n",
       "Beckman_Coulter                                     NaN  \n",
       "Oath_Inc.                                XXLarge ($1B+)  \n",
       "Quanta_Services                          XXLarge ($1B+)  "
      ]
     },
     "execution_count": 55,
     "metadata": {},
     "output_type": "execute_result"
    }
   ],
   "source": [
    "selected_features_df[[\"Total assets\", 'Total equity', 'Net income', 'Operating income', 'Revenue', \"Net Worth\"]].dropna(how='all').sample(5)"
   ]
  },
  {
   "cell_type": "markdown",
   "id": "e6e421b7",
   "metadata": {},
   "source": [
    "### Transforming Columns\n",
    "* Industry, Genre -> Industry\n",
    "* Products, Services, Brands -> Products_and_Services\n",
    "* Subsidiaries, Divisions -> Subsidiaries\n",
    "* Successor, Formerly, Trade name, Predecessor -> Aliases\n",
    "* Founders, Founder, Key people, Owner -> People"
   ]
  },
  {
   "cell_type": "code",
   "execution_count": 56,
   "id": "a3a49724",
   "metadata": {},
   "outputs": [],
   "source": [
    "def combine_series_with_lists(series1, series2):\n",
    "    \"\"\"\n",
    "    Combine two Pandas Series element-wise, where each element is a list.\n",
    "\n",
    "    Parameters:\n",
    "    - series1 (pd.Series): The first input Series.\n",
    "    - series2 (pd.Series): The second input Series.\n",
    "\n",
    "    Returns:\n",
    "    - pd.Series: A new Series where each element is a combined list from the input Series.\n",
    "    \"\"\"\n",
    "\n",
    "    # Function to combine lists from two Series elements\n",
    "    def combine_lists(x, y):\n",
    "        if isinstance(x, list) and isinstance(y, list):\n",
    "            return x + y\n",
    "        elif isinstance(x, list):\n",
    "            return x\n",
    "        elif isinstance(y, list):\n",
    "            return y\n",
    "        return []\n",
    "\n",
    "    # Apply combine_lists to the input Series\n",
    "    combined_series = series1.combine(series2, lambda x, y: combine_lists(x, y))\n",
    "\n",
    "    # Replace empty lists with NaN values\n",
    "    combined_series = combined_series.apply(lambda x: np.nan if (x is None or x == []) else x)\n",
    "\n",
    "    return combined_series"
   ]
  },
  {
   "cell_type": "code",
   "execution_count": 57,
   "id": "984407ec",
   "metadata": {},
   "outputs": [],
   "source": [
    "temp = combine_series_with_lists(selected_features_df['Industry'], selected_features_df['Genre'])\n",
    "temp = temp.dropna().apply(lambda x:set(x)-{'', ' '}).apply(lambda x: [clean_boxes(item.strip().strip(',')) for item in x])\n",
    "output_df[\"Industry\"] = temp.apply(lambda x: [clean_boxes(item) for item in x])"
   ]
  },
  {
   "cell_type": "code",
   "execution_count": 58,
   "id": "aa325ad0",
   "metadata": {},
   "outputs": [],
   "source": [
    "temp = combine_series_with_lists(selected_features_df['Products'], selected_features_df['Services'])\n",
    "temp = combine_series_with_lists(temp, selected_features_df['Brands'])\n",
    "temp = temp.dropna().apply(lambda x:set(x)-{'', ' '}).apply(lambda x: [clean_boxes(item.strip().strip(',')) for item in x])\n",
    "output_df[\"Products_and_Services\"] = temp"
   ]
  },
  {
   "cell_type": "code",
   "execution_count": 59,
   "id": "6b8107e8",
   "metadata": {},
   "outputs": [],
   "source": [
    "temp = combine_series_with_lists(selected_features_df['Subsidiaries'], selected_features_df['Divisions'])\n",
    "temp = temp.dropna().apply(lambda x:set(x)-{'', ' '}).apply(lambda x: [clean_boxes(item.strip().strip(',')) for item in x])\n",
    "output_df[\"Subsidiaries\"] = temp"
   ]
  },
  {
   "cell_type": "code",
   "execution_count": 60,
   "id": "8158d58c",
   "metadata": {},
   "outputs": [],
   "source": [
    "temp = combine_series_with_lists(selected_features_df['Successor'], selected_features_df['Formerly'])\n",
    "temp = combine_series_with_lists(temp, selected_features_df['Trade name'])\n",
    "temp = combine_series_with_lists(temp, selected_features_df['Predecessor'])\n",
    "temp = temp.dropna().apply(lambda x:set(x)-{'', ' '}).apply(lambda x: [clean_boxes(item.strip().strip(',')) for item in x])\n",
    "output_df[\"Aliases\"] = temp"
   ]
  },
  {
   "cell_type": "code",
   "execution_count": 61,
   "id": "eaa50f96",
   "metadata": {},
   "outputs": [],
   "source": [
    "temp = combine_series_with_lists(selected_features_df['Founders'], selected_features_df['Founder'])\n",
    "temp = combine_series_with_lists(temp, selected_features_df['Key people'])\n",
    "temp = combine_series_with_lists(temp, selected_features_df['Owner'])\n",
    "temp = temp.dropna().apply(lambda x:set(x)-{'', ' '}).apply(lambda x: [clean_boxes(item.strip().strip(',')) for item in x])\n",
    "output_df[\"People\"] = temp"
   ]
  },
  {
   "cell_type": "code",
   "execution_count": 62,
   "id": "5d924be1",
   "metadata": {},
   "outputs": [],
   "source": [
    "# temp = combine_series_with_lists(selected_features_df['Number of locations'], selected_features_df['Area served'])\n",
    "# temp = combine_series_with_lists(temp, selected_features_df['Location'])\n",
    "# temp = temp.dropna().apply(lambda x:set(x)-{'', ' '}).apply(lambda x: [clean_boxes(item.strip().strip(',')) for item in x])\n",
    "# output_df[\"Locations\"] = temp"
   ]
  },
  {
   "cell_type": "markdown",
   "id": "746fd8ef",
   "metadata": {},
   "source": [
    "### Transforming `Number of Employees` into categories\n",
    "- Micro (1-9 Employees) \n",
    "- Small (10-49 Employees)\n",
    "- Medium-Small (50-199 Employees)\n",
    "- Medium (200-499 Employees)\n",
    "- Medium-Large (500-999 Employees)\n",
    "- Large (1,000-4,999 Employees) \n",
    "- XLarge (5000-10,000 Employees)\n",
    "- XXLarge (10,000+ Employees)"
   ]
  },
  {
   "cell_type": "code",
   "execution_count": 63,
   "id": "425509e2",
   "metadata": {},
   "outputs": [],
   "source": [
    "def get_employee_category(num_employees):\n",
    "    if  1 <= num_employees <= 9:\n",
    "        return 'Micro (1-9 Employees)'\n",
    "    elif 10 <= num_employees <= 49:\n",
    "        return 'Small (10-49 Employees)'\n",
    "    elif 50 <= num_employees <= 199:\n",
    "        return 'Medium-Small (50-199 Employees)'\n",
    "    elif 200 <= num_employees <= 499:\n",
    "        return 'Medium (200-499 Employees)'\n",
    "    elif 500 <= num_employees <= 999:\n",
    "        return 'Medium-Large (500-999 Employees)'\n",
    "    elif 1000 <= num_employees <= 4999:\n",
    "        return 'Large (1,000-4,999 Employees)'\n",
    "    elif 5000 <= num_employees < 10000:\n",
    "        return 'XLarge (5000-10,000 Employees)'\n",
    "    elif num_employees >= 10000:\n",
    "        return 'XXLarge (10,000+ Employees)'\n",
    "\n",
    "def extract_numeric_and_convert(text):\n",
    "    for item in text:\n",
    "        numeric = re.findall(r'([\\d ,]+)', item)  # Remove non-numeric characters\n",
    "        if numeric:\n",
    "            for each in numeric:\n",
    "                split_numeric=each.strip(',').strip().split()\n",
    "                if split_numeric:\n",
    "                    for i in split_numeric:\n",
    "                        out = i.strip(',').strip()\n",
    "                        return out"
   ]
  },
  {
   "cell_type": "code",
   "execution_count": 64,
   "id": "b5d78a86",
   "metadata": {},
   "outputs": [],
   "source": [
    "temp = selected_features_df['Number of employees'].dropna()\n",
    "temp = temp.apply(extract_numeric_and_convert)\n",
    "temp = temp.apply(lambda x:int(''.join(x.split(','))) if x else np.nan)\n",
    "temp = temp.dropna().apply(lambda x:get_employee_category(x))\n",
    "\n",
    "output_df['Number of employees'] = temp"
   ]
  },
  {
   "cell_type": "code",
   "execution_count": 65,
   "id": "80e7ca00",
   "metadata": {},
   "outputs": [
    {
     "data": {
      "text/html": [
       "<div>\n",
       "<style scoped>\n",
       "    .dataframe tbody tr th:only-of-type {\n",
       "        vertical-align: middle;\n",
       "    }\n",
       "\n",
       "    .dataframe tbody tr th {\n",
       "        vertical-align: top;\n",
       "    }\n",
       "\n",
       "    .dataframe thead th {\n",
       "        text-align: right;\n",
       "    }\n",
       "</style>\n",
       "<table border=\"1\" class=\"dataframe\">\n",
       "  <thead>\n",
       "    <tr style=\"text-align: right;\">\n",
       "      <th></th>\n",
       "      <th>old</th>\n",
       "      <th>new</th>\n",
       "    </tr>\n",
       "  </thead>\n",
       "  <tbody>\n",
       "    <tr>\n",
       "      <th>Christopherson_Business_Travel</th>\n",
       "      <td>[480 ]</td>\n",
       "      <td>Medium (200-499 Employees)</td>\n",
       "    </tr>\n",
       "    <tr>\n",
       "      <th>Boeing</th>\n",
       "      <td>[156,000 ]</td>\n",
       "      <td>XXLarge (10,000+ Employees)</td>\n",
       "    </tr>\n",
       "    <tr>\n",
       "      <th>Acuity_Brands</th>\n",
       "      <td>[11,500, , ]</td>\n",
       "      <td>XXLarge (10,000+ Employees)</td>\n",
       "    </tr>\n",
       "    <tr>\n",
       "      <th>Waymo</th>\n",
       "      <td>[2,500 ]</td>\n",
       "      <td>Large (1,000-4,999 Employees)</td>\n",
       "    </tr>\n",
       "    <tr>\n",
       "      <th>Northrop_Grumman</th>\n",
       "      <td>[c., 95,000, ]</td>\n",
       "      <td>XXLarge (10,000+ Employees)</td>\n",
       "    </tr>\n",
       "    <tr>\n",
       "      <th>Syneos_Health</th>\n",
       "      <td>[28,000 ]</td>\n",
       "      <td>XXLarge (10,000+ Employees)</td>\n",
       "    </tr>\n",
       "    <tr>\n",
       "      <th>Idaho_Power</th>\n",
       "      <td>[1,976 full time employees , ]</td>\n",
       "      <td>Large (1,000-4,999 Employees)</td>\n",
       "    </tr>\n",
       "    <tr>\n",
       "      <th>Gemini_Group</th>\n",
       "      <td>[2,700+]</td>\n",
       "      <td>Large (1,000-4,999 Employees)</td>\n",
       "    </tr>\n",
       "    <tr>\n",
       "      <th>Carolina_Foods</th>\n",
       "      <td>[425 ]</td>\n",
       "      <td>Medium (200-499 Employees)</td>\n",
       "    </tr>\n",
       "    <tr>\n",
       "      <th>La_Quinta_Inns_%26_Suites</th>\n",
       "      <td>[9000]</td>\n",
       "      <td>XLarge (5000-10,000 Employees)</td>\n",
       "    </tr>\n",
       "  </tbody>\n",
       "</table>\n",
       "</div>"
      ],
      "text/plain": [
       "                                                           old  \\\n",
       "Christopherson_Business_Travel                          [480 ]   \n",
       "Boeing                                              [156,000 ]   \n",
       "Acuity_Brands                                     [11,500, , ]   \n",
       "Waymo                                                 [2,500 ]   \n",
       "Northrop_Grumman                                [c., 95,000, ]   \n",
       "Syneos_Health                                        [28,000 ]   \n",
       "Idaho_Power                     [1,976 full time employees , ]   \n",
       "Gemini_Group                                          [2,700+]   \n",
       "Carolina_Foods                                          [425 ]   \n",
       "La_Quinta_Inns_%26_Suites                               [9000]   \n",
       "\n",
       "                                                           new  \n",
       "Christopherson_Business_Travel      Medium (200-499 Employees)  \n",
       "Boeing                             XXLarge (10,000+ Employees)  \n",
       "Acuity_Brands                      XXLarge (10,000+ Employees)  \n",
       "Waymo                            Large (1,000-4,999 Employees)  \n",
       "Northrop_Grumman                   XXLarge (10,000+ Employees)  \n",
       "Syneos_Health                      XXLarge (10,000+ Employees)  \n",
       "Idaho_Power                      Large (1,000-4,999 Employees)  \n",
       "Gemini_Group                     Large (1,000-4,999 Employees)  \n",
       "Carolina_Foods                      Medium (200-499 Employees)  \n",
       "La_Quinta_Inns_%26_Suites       XLarge (5000-10,000 Employees)  "
      ]
     },
     "execution_count": 65,
     "metadata": {},
     "output_type": "execute_result"
    }
   ],
   "source": [
    "compare_columns(selected_features_df['Number of employees'], output_df['Number of employees'])"
   ]
  },
  {
   "cell_type": "markdown",
   "id": "c4e12fb0",
   "metadata": {},
   "source": [
    "### Final Output"
   ]
  },
  {
   "cell_type": "code",
   "execution_count": 66,
   "id": "af084a24",
   "metadata": {},
   "outputs": [
    {
     "data": {
      "text/plain": [
       "Index(['Website', 'Type', 'Parent', 'Founded', 'Ticker', 'is_defunct', 'HQ',\n",
       "       'HQ State', 'HQ City', 'Net Worth', 'Industry', 'Products_and_Services',\n",
       "       'Subsidiaries', 'Aliases', 'People', 'Number of employees'],\n",
       "      dtype='object')"
      ]
     },
     "execution_count": 66,
     "metadata": {},
     "output_type": "execute_result"
    }
   ],
   "source": [
    "output_df = output_df.dropna(how='all').dropna(how='all',axis=1)\n",
    "\n",
    "output_df.index = pd.Series(output_df.index.values).apply(lambda x:' '.join(x.split('_')))\n",
    "\n",
    "output_df.columns"
   ]
  },
  {
   "cell_type": "code",
   "execution_count": 67,
   "id": "b7a4f9c2",
   "metadata": {},
   "outputs": [
    {
     "data": {
      "text/html": [
       "<div>\n",
       "<style scoped>\n",
       "    .dataframe tbody tr th:only-of-type {\n",
       "        vertical-align: middle;\n",
       "    }\n",
       "\n",
       "    .dataframe tbody tr th {\n",
       "        vertical-align: top;\n",
       "    }\n",
       "\n",
       "    .dataframe thead th {\n",
       "        text-align: right;\n",
       "    }\n",
       "</style>\n",
       "<table border=\"1\" class=\"dataframe\">\n",
       "  <thead>\n",
       "    <tr style=\"text-align: right;\">\n",
       "      <th></th>\n",
       "      <th>Website</th>\n",
       "      <th>Type</th>\n",
       "      <th>Parent</th>\n",
       "      <th>Founded</th>\n",
       "      <th>Ticker</th>\n",
       "      <th>is_defunct</th>\n",
       "      <th>HQ</th>\n",
       "      <th>HQ State</th>\n",
       "      <th>HQ City</th>\n",
       "      <th>Net Worth</th>\n",
       "      <th>Industry</th>\n",
       "      <th>Products_and_Services</th>\n",
       "      <th>Subsidiaries</th>\n",
       "      <th>Aliases</th>\n",
       "      <th>People</th>\n",
       "      <th>Number of employees</th>\n",
       "    </tr>\n",
       "  </thead>\n",
       "  <tbody>\n",
       "    <tr>\n",
       "      <th>Datacard Group</th>\n",
       "      <td>entrust.com</td>\n",
       "      <td>Private</td>\n",
       "      <td>NaN</td>\n",
       "      <td>1994</td>\n",
       "      <td>NaN</td>\n",
       "      <td>NaN</td>\n",
       "      <td>Minneapolis, MN, United States</td>\n",
       "      <td>Minnesota</td>\n",
       "      <td>Minneapolis</td>\n",
       "      <td>NaN</td>\n",
       "      <td>[Digital Security and Credential Issuance]</td>\n",
       "      <td>[Digital Certificates, Digital Signing, Public...</td>\n",
       "      <td>NaN</td>\n",
       "      <td>[Entrust Datacard]</td>\n",
       "      <td>NaN</td>\n",
       "      <td>Large (1,000-4,999 Employees)</td>\n",
       "    </tr>\n",
       "    <tr>\n",
       "      <th>Towerstream</th>\n",
       "      <td>towerstream.com</td>\n",
       "      <td>Public</td>\n",
       "      <td>NaN</td>\n",
       "      <td>1999</td>\n",
       "      <td>TWER</td>\n",
       "      <td>NaN</td>\n",
       "      <td>Hammarlund Way Tech III, Middletown, Rhode Isl...</td>\n",
       "      <td>Rhode Island</td>\n",
       "      <td>Middletown</td>\n",
       "      <td>NaN</td>\n",
       "      <td>[Telecommunications]</td>\n",
       "      <td>NaN</td>\n",
       "      <td>NaN</td>\n",
       "      <td>NaN</td>\n",
       "      <td>[Philip Urso, Jeffrey Thompson]</td>\n",
       "      <td>NaN</td>\n",
       "    </tr>\n",
       "    <tr>\n",
       "      <th>RFPIO</th>\n",
       "      <td>rfpio.com</td>\n",
       "      <td>Privately Held</td>\n",
       "      <td>NaN</td>\n",
       "      <td>2015</td>\n",
       "      <td>NaN</td>\n",
       "      <td>NaN</td>\n",
       "      <td>Beaverton, Oregon</td>\n",
       "      <td>Oregon</td>\n",
       "      <td>Beaverton</td>\n",
       "      <td>NaN</td>\n",
       "      <td>[Software, Cloud Computing -]</td>\n",
       "      <td>[RFP360, RFPIO, RFPIO Lookup, Cloud-based requ...</td>\n",
       "      <td>NaN</td>\n",
       "      <td>NaN</td>\n",
       "      <td>[Ganesh Shankar, ; AJ Sunder, CIO; Sankar Lagu...</td>\n",
       "      <td>Medium (200-499 Employees)</td>\n",
       "    </tr>\n",
       "    <tr>\n",
       "      <th>Texas Precious Metals</th>\n",
       "      <td>texmetals.com</td>\n",
       "      <td>Private</td>\n",
       "      <td>NaN</td>\n",
       "      <td>2011</td>\n",
       "      <td>NaN</td>\n",
       "      <td>NaN</td>\n",
       "      <td>Shiner, Texas, United States</td>\n",
       "      <td>Texas</td>\n",
       "      <td>Shiner</td>\n",
       "      <td>NaN</td>\n",
       "      <td>[Precious metals]</td>\n",
       "      <td>[bars, Silver coins, Gold coins]</td>\n",
       "      <td>NaN</td>\n",
       "      <td>NaN</td>\n",
       "      <td>[Tarek Saab,   &amp; Co-founder\\nJason Kaspar, Co-...</td>\n",
       "      <td>NaN</td>\n",
       "    </tr>\n",
       "    <tr>\n",
       "      <th>Champlin Architecture</th>\n",
       "      <td>thinkchamplin.com</td>\n",
       "      <td>NaN</td>\n",
       "      <td>NaN</td>\n",
       "      <td>1978</td>\n",
       "      <td>NaN</td>\n",
       "      <td>NaN</td>\n",
       "      <td>NaN</td>\n",
       "      <td>NaN</td>\n",
       "      <td>NaN</td>\n",
       "      <td>NaN</td>\n",
       "      <td>[Architecture]</td>\n",
       "      <td>[Structural Engineering,  Planning, Interior D...</td>\n",
       "      <td>NaN</td>\n",
       "      <td>NaN</td>\n",
       "      <td>[Michael J. Battoclette, Robert A. Schilling, ...</td>\n",
       "      <td>NaN</td>\n",
       "    </tr>\n",
       "  </tbody>\n",
       "</table>\n",
       "</div>"
      ],
      "text/plain": [
       "                                 Website            Type Parent Founded  \\\n",
       "Datacard Group               entrust.com         Private    NaN    1994   \n",
       "Towerstream              towerstream.com          Public    NaN    1999   \n",
       "RFPIO                          rfpio.com  Privately Held    NaN    2015   \n",
       "Texas Precious Metals      texmetals.com         Private    NaN    2011   \n",
       "Champlin Architecture  thinkchamplin.com             NaN    NaN    1978   \n",
       "\n",
       "                      Ticker is_defunct  \\\n",
       "Datacard Group           NaN        NaN   \n",
       "Towerstream             TWER        NaN   \n",
       "RFPIO                    NaN        NaN   \n",
       "Texas Precious Metals    NaN        NaN   \n",
       "Champlin Architecture    NaN        NaN   \n",
       "\n",
       "                                                                      HQ  \\\n",
       "Datacard Group                            Minneapolis, MN, United States   \n",
       "Towerstream            Hammarlund Way Tech III, Middletown, Rhode Isl...   \n",
       "RFPIO                                                  Beaverton, Oregon   \n",
       "Texas Precious Metals                       Shiner, Texas, United States   \n",
       "Champlin Architecture                                                NaN   \n",
       "\n",
       "                           HQ State      HQ City Net Worth  \\\n",
       "Datacard Group            Minnesota  Minneapolis       NaN   \n",
       "Towerstream            Rhode Island   Middletown       NaN   \n",
       "RFPIO                        Oregon    Beaverton       NaN   \n",
       "Texas Precious Metals         Texas       Shiner       NaN   \n",
       "Champlin Architecture           NaN          NaN       NaN   \n",
       "\n",
       "                                                         Industry  \\\n",
       "Datacard Group         [Digital Security and Credential Issuance]   \n",
       "Towerstream                                  [Telecommunications]   \n",
       "RFPIO                               [Software, Cloud Computing -]   \n",
       "Texas Precious Metals                           [Precious metals]   \n",
       "Champlin Architecture                              [Architecture]   \n",
       "\n",
       "                                                   Products_and_Services  \\\n",
       "Datacard Group         [Digital Certificates, Digital Signing, Public...   \n",
       "Towerstream                                                          NaN   \n",
       "RFPIO                  [RFP360, RFPIO, RFPIO Lookup, Cloud-based requ...   \n",
       "Texas Precious Metals                   [bars, Silver coins, Gold coins]   \n",
       "Champlin Architecture  [Structural Engineering,  Planning, Interior D...   \n",
       "\n",
       "                      Subsidiaries             Aliases  \\\n",
       "Datacard Group                 NaN  [Entrust Datacard]   \n",
       "Towerstream                    NaN                 NaN   \n",
       "RFPIO                          NaN                 NaN   \n",
       "Texas Precious Metals          NaN                 NaN   \n",
       "Champlin Architecture          NaN                 NaN   \n",
       "\n",
       "                                                                  People  \\\n",
       "Datacard Group                                                       NaN   \n",
       "Towerstream                              [Philip Urso, Jeffrey Thompson]   \n",
       "RFPIO                  [Ganesh Shankar, ; AJ Sunder, CIO; Sankar Lagu...   \n",
       "Texas Precious Metals  [Tarek Saab,   & Co-founder\\nJason Kaspar, Co-...   \n",
       "Champlin Architecture  [Michael J. Battoclette, Robert A. Schilling, ...   \n",
       "\n",
       "                                 Number of employees  \n",
       "Datacard Group         Large (1,000-4,999 Employees)  \n",
       "Towerstream                                      NaN  \n",
       "RFPIO                     Medium (200-499 Employees)  \n",
       "Texas Precious Metals                            NaN  \n",
       "Champlin Architecture                            NaN  "
      ]
     },
     "execution_count": 67,
     "metadata": {},
     "output_type": "execute_result"
    }
   ],
   "source": [
    "output_df.sample(5)"
   ]
  },
  {
   "cell_type": "code",
   "execution_count": 68,
   "id": "07020ea9",
   "metadata": {},
   "outputs": [],
   "source": [
    "output_df.to_csv('WikiCompanies.csv')"
   ]
  },
  {
   "cell_type": "code",
   "execution_count": null,
   "id": "f8708389",
   "metadata": {},
   "outputs": [],
   "source": []
  },
  {
   "cell_type": "markdown",
   "id": "3bfc7cef",
   "metadata": {},
   "source": [
    "## TODO: Examine more features from `extra_features`"
   ]
  },
  {
   "cell_type": "code",
   "execution_count": 69,
   "id": "888fe54e",
   "metadata": {},
   "outputs": [
    {
     "data": {
      "text/plain": [
       "dict_keys(['Coordinates', 'AUM', 'Production output', 'Areas served', 'IATA', 'Hubs', 'Fleet size', 'Parent company', 'Area', 'Owners', 'Country', 'State', 'County', 'Government', '•\\xa0Total', '•\\xa0Land', '•\\xa0Water', 'Population', '•\\xa0Density', 'Time zone', '•\\xa0Summer ', 'Area code', 'FIPS code', 'Ceased operations', 'URL', 'Country of origin', 'Official website', 'Predecessors', 'Elevation', 'Destinations', 'Employees', 'Opened', ''])"
      ]
     },
     "execution_count": 69,
     "metadata": {},
     "output_type": "execute_result"
    }
   ],
   "source": [
    "extra_features.keys()"
   ]
  },
  {
   "cell_type": "code",
   "execution_count": 70,
   "id": "22ebe32c",
   "metadata": {},
   "outputs": [
    {
     "data": {
      "text/html": [
       "<div>\n",
       "<style scoped>\n",
       "    .dataframe tbody tr th:only-of-type {\n",
       "        vertical-align: middle;\n",
       "    }\n",
       "\n",
       "    .dataframe tbody tr th {\n",
       "        vertical-align: top;\n",
       "    }\n",
       "\n",
       "    .dataframe thead th {\n",
       "        text-align: right;\n",
       "    }\n",
       "</style>\n",
       "<table border=\"1\" class=\"dataframe\">\n",
       "  <thead>\n",
       "    <tr style=\"text-align: right;\">\n",
       "      <th></th>\n",
       "      <th>Coordinates</th>\n",
       "      <th>AUM</th>\n",
       "      <th>Production output</th>\n",
       "      <th>Areas served</th>\n",
       "      <th>IATA</th>\n",
       "      <th>Hubs</th>\n",
       "      <th>Fleet size</th>\n",
       "      <th>Parent company</th>\n",
       "      <th>Area</th>\n",
       "      <th>Owners</th>\n",
       "      <th>...</th>\n",
       "      <th>Ceased operations</th>\n",
       "      <th>URL</th>\n",
       "      <th>Country of origin</th>\n",
       "      <th>Official website</th>\n",
       "      <th>Predecessors</th>\n",
       "      <th>Elevation</th>\n",
       "      <th>Destinations</th>\n",
       "      <th>Employees</th>\n",
       "      <th>Opened</th>\n",
       "      <th></th>\n",
       "    </tr>\n",
       "  </thead>\n",
       "  <tbody>\n",
       "    <tr>\n",
       "      <th>Los_Angeles_Airways</th>\n",
       "      <td>NaN</td>\n",
       "      <td>NaN</td>\n",
       "      <td>NaN</td>\n",
       "      <td>NaN</td>\n",
       "      <td>NaN</td>\n",
       "      <td>[Westchester, , Los Angeles]</td>\n",
       "      <td>NaN</td>\n",
       "      <td>NaN</td>\n",
       "      <td>NaN</td>\n",
       "      <td>NaN</td>\n",
       "      <td>...</td>\n",
       "      <td>[1971]</td>\n",
       "      <td>NaN</td>\n",
       "      <td>NaN</td>\n",
       "      <td>NaN</td>\n",
       "      <td>NaN</td>\n",
       "      <td>NaN</td>\n",
       "      <td>[Disneyland, , Newporter Resort, Los Angeles a...</td>\n",
       "      <td>NaN</td>\n",
       "      <td>NaN</td>\n",
       "      <td>NaN</td>\n",
       "    </tr>\n",
       "    <tr>\n",
       "      <th>The_Daily_Voice_(U.S._hyperlocal_news)</th>\n",
       "      <td>NaN</td>\n",
       "      <td>NaN</td>\n",
       "      <td>NaN</td>\n",
       "      <td>NaN</td>\n",
       "      <td>NaN</td>\n",
       "      <td>NaN</td>\n",
       "      <td>NaN</td>\n",
       "      <td>NaN</td>\n",
       "      <td>NaN</td>\n",
       "      <td>NaN</td>\n",
       "      <td>...</td>\n",
       "      <td>NaN</td>\n",
       "      <td>[dailyvoice, .com]</td>\n",
       "      <td>NaN</td>\n",
       "      <td>NaN</td>\n",
       "      <td>NaN</td>\n",
       "      <td>NaN</td>\n",
       "      <td>NaN</td>\n",
       "      <td>[44 (mid-2010), 100 (mid-2012)]</td>\n",
       "      <td>NaN</td>\n",
       "      <td>NaN</td>\n",
       "    </tr>\n",
       "    <tr>\n",
       "      <th>Beyond_Words_Publishing</th>\n",
       "      <td>NaN</td>\n",
       "      <td>NaN</td>\n",
       "      <td>NaN</td>\n",
       "      <td>NaN</td>\n",
       "      <td>NaN</td>\n",
       "      <td>NaN</td>\n",
       "      <td>NaN</td>\n",
       "      <td>NaN</td>\n",
       "      <td>NaN</td>\n",
       "      <td>NaN</td>\n",
       "      <td>...</td>\n",
       "      <td>NaN</td>\n",
       "      <td>NaN</td>\n",
       "      <td>[United States]</td>\n",
       "      <td>[www.beyondword.com]</td>\n",
       "      <td>NaN</td>\n",
       "      <td>NaN</td>\n",
       "      <td>NaN</td>\n",
       "      <td>NaN</td>\n",
       "      <td>NaN</td>\n",
       "      <td>NaN</td>\n",
       "    </tr>\n",
       "    <tr>\n",
       "      <th>Gulfstream_International_Airlines</th>\n",
       "      <td>NaN</td>\n",
       "      <td>NaN</td>\n",
       "      <td>NaN</td>\n",
       "      <td>NaN</td>\n",
       "      <td>[]</td>\n",
       "      <td>NaN</td>\n",
       "      <td>[24]</td>\n",
       "      <td>NaN</td>\n",
       "      <td>NaN</td>\n",
       "      <td>NaN</td>\n",
       "      <td>...</td>\n",
       "      <td>[November 2010]</td>\n",
       "      <td>NaN</td>\n",
       "      <td>NaN</td>\n",
       "      <td>NaN</td>\n",
       "      <td>NaN</td>\n",
       "      <td>NaN</td>\n",
       "      <td>[3]</td>\n",
       "      <td>NaN</td>\n",
       "      <td>NaN</td>\n",
       "      <td>NaN</td>\n",
       "    </tr>\n",
       "    <tr>\n",
       "      <th>SeaPort_Airlines</th>\n",
       "      <td>NaN</td>\n",
       "      <td>NaN</td>\n",
       "      <td>NaN</td>\n",
       "      <td>NaN</td>\n",
       "      <td>[]</td>\n",
       "      <td>[Portland International Airport, Memphis Inter...</td>\n",
       "      <td>NaN</td>\n",
       "      <td>[SeaPort Airlines, Inc.]</td>\n",
       "      <td>NaN</td>\n",
       "      <td>NaN</td>\n",
       "      <td>...</td>\n",
       "      <td>[September 20, 2016]</td>\n",
       "      <td>NaN</td>\n",
       "      <td>NaN</td>\n",
       "      <td>NaN</td>\n",
       "      <td>NaN</td>\n",
       "      <td>NaN</td>\n",
       "      <td>[7]</td>\n",
       "      <td>NaN</td>\n",
       "      <td>NaN</td>\n",
       "      <td>NaN</td>\n",
       "    </tr>\n",
       "  </tbody>\n",
       "</table>\n",
       "<p>5 rows × 33 columns</p>\n",
       "</div>"
      ],
      "text/plain": [
       "                                       Coordinates  AUM Production output  \\\n",
       "Los_Angeles_Airways                            NaN  NaN               NaN   \n",
       "The_Daily_Voice_(U.S._hyperlocal_news)         NaN  NaN               NaN   \n",
       "Beyond_Words_Publishing                        NaN  NaN               NaN   \n",
       "Gulfstream_International_Airlines              NaN  NaN               NaN   \n",
       "SeaPort_Airlines                               NaN  NaN               NaN   \n",
       "\n",
       "                                       Areas served IATA  \\\n",
       "Los_Angeles_Airways                             NaN  NaN   \n",
       "The_Daily_Voice_(U.S._hyperlocal_news)          NaN  NaN   \n",
       "Beyond_Words_Publishing                         NaN  NaN   \n",
       "Gulfstream_International_Airlines               NaN   []   \n",
       "SeaPort_Airlines                                NaN   []   \n",
       "\n",
       "                                                                                     Hubs  \\\n",
       "Los_Angeles_Airways                                          [Westchester, , Los Angeles]   \n",
       "The_Daily_Voice_(U.S._hyperlocal_news)                                                NaN   \n",
       "Beyond_Words_Publishing                                                               NaN   \n",
       "Gulfstream_International_Airlines                                                     NaN   \n",
       "SeaPort_Airlines                        [Portland International Airport, Memphis Inter...   \n",
       "\n",
       "                                       Fleet size            Parent company  \\\n",
       "Los_Angeles_Airways                           NaN                       NaN   \n",
       "The_Daily_Voice_(U.S._hyperlocal_news)        NaN                       NaN   \n",
       "Beyond_Words_Publishing                       NaN                       NaN   \n",
       "Gulfstream_International_Airlines            [24]                       NaN   \n",
       "SeaPort_Airlines                              NaN  [SeaPort Airlines, Inc.]   \n",
       "\n",
       "                                       Area Owners  ...     Ceased operations  \\\n",
       "Los_Angeles_Airways                     NaN    NaN  ...                [1971]   \n",
       "The_Daily_Voice_(U.S._hyperlocal_news)  NaN    NaN  ...                   NaN   \n",
       "Beyond_Words_Publishing                 NaN    NaN  ...                   NaN   \n",
       "Gulfstream_International_Airlines       NaN    NaN  ...       [November 2010]   \n",
       "SeaPort_Airlines                        NaN    NaN  ...  [September 20, 2016]   \n",
       "\n",
       "                                                       URL Country of origin  \\\n",
       "Los_Angeles_Airways                                    NaN               NaN   \n",
       "The_Daily_Voice_(U.S._hyperlocal_news)  [dailyvoice, .com]               NaN   \n",
       "Beyond_Words_Publishing                                NaN   [United States]   \n",
       "Gulfstream_International_Airlines                      NaN               NaN   \n",
       "SeaPort_Airlines                                       NaN               NaN   \n",
       "\n",
       "                                            Official website Predecessors  \\\n",
       "Los_Angeles_Airways                                      NaN          NaN   \n",
       "The_Daily_Voice_(U.S._hyperlocal_news)                   NaN          NaN   \n",
       "Beyond_Words_Publishing                 [www.beyondword.com]          NaN   \n",
       "Gulfstream_International_Airlines                        NaN          NaN   \n",
       "SeaPort_Airlines                                         NaN          NaN   \n",
       "\n",
       "                                       Elevation  \\\n",
       "Los_Angeles_Airways                          NaN   \n",
       "The_Daily_Voice_(U.S._hyperlocal_news)       NaN   \n",
       "Beyond_Words_Publishing                      NaN   \n",
       "Gulfstream_International_Airlines            NaN   \n",
       "SeaPort_Airlines                             NaN   \n",
       "\n",
       "                                                                             Destinations  \\\n",
       "Los_Angeles_Airways                     [Disneyland, , Newporter Resort, Los Angeles a...   \n",
       "The_Daily_Voice_(U.S._hyperlocal_news)                                                NaN   \n",
       "Beyond_Words_Publishing                                                               NaN   \n",
       "Gulfstream_International_Airlines                                                     [3]   \n",
       "SeaPort_Airlines                                                                      [7]   \n",
       "\n",
       "                                                              Employees  \\\n",
       "Los_Angeles_Airways                                                 NaN   \n",
       "The_Daily_Voice_(U.S._hyperlocal_news)  [44 (mid-2010), 100 (mid-2012)]   \n",
       "Beyond_Words_Publishing                                             NaN   \n",
       "Gulfstream_International_Airlines                                   NaN   \n",
       "SeaPort_Airlines                                                    NaN   \n",
       "\n",
       "                                       Opened       \n",
       "Los_Angeles_Airways                       NaN  NaN  \n",
       "The_Daily_Voice_(U.S._hyperlocal_news)    NaN  NaN  \n",
       "Beyond_Words_Publishing                   NaN  NaN  \n",
       "Gulfstream_International_Airlines         NaN  NaN  \n",
       "SeaPort_Airlines                          NaN  NaN  \n",
       "\n",
       "[5 rows x 33 columns]"
      ]
     },
     "execution_count": 70,
     "metadata": {},
     "output_type": "execute_result"
    }
   ],
   "source": [
    "extra_features_df = clean_companies_df[extra_features.keys()].dropna(how='all').dropna(how='all', axis=1)\n",
    "extra_features_df.sample(5)"
   ]
  },
  {
   "cell_type": "code",
   "execution_count": null,
   "id": "06126194",
   "metadata": {},
   "outputs": [],
   "source": []
  },
  {
   "cell_type": "code",
   "execution_count": null,
   "id": "a866d368",
   "metadata": {},
   "outputs": [],
   "source": []
  },
  {
   "cell_type": "code",
   "execution_count": null,
   "id": "c25308f5",
   "metadata": {},
   "outputs": [],
   "source": []
  }
 ],
 "metadata": {
  "kernelspec": {
   "display_name": "Python 3 (ipykernel)",
   "language": "python",
   "name": "python3"
  },
  "language_info": {
   "codemirror_mode": {
    "name": "ipython",
    "version": 3
   },
   "file_extension": ".py",
   "mimetype": "text/x-python",
   "name": "python",
   "nbconvert_exporter": "python",
   "pygments_lexer": "ipython3",
   "version": "3.9.7"
  }
 },
 "nbformat": 4,
 "nbformat_minor": 5
}
